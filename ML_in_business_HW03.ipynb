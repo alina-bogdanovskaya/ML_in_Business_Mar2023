{
  "nbformat": 4,
  "nbformat_minor": 0,
  "metadata": {
    "colab": {
      "provenance": [],
      "mount_file_id": "18rFGFMIUUzzy1bR-47ppFJSuK9NPZz0H",
      "authorship_tag": "ABX9TyO/15MAVeBpfApv+Xav9hz1",
      "include_colab_link": true
    },
    "kernelspec": {
      "name": "python3",
      "display_name": "Python 3"
    },
    "language_info": {
      "name": "python"
    },
    "gpuClass": "standard"
  },
  "cells": [
    {
      "cell_type": "markdown",
      "metadata": {
        "id": "view-in-github",
        "colab_type": "text"
      },
      "source": [
        "<a href=\"https://colab.research.google.com/github/alina-bogdanovskaya/ML_in_Business_Mar2023/blob/lesson3/ML_in_business_HW03.ipynb\" target=\"_parent\"><img src=\"https://colab.research.google.com/assets/colab-badge.svg\" alt=\"Open In Colab\"/></a>"
      ]
    },
    {
      "cell_type": "code",
      "source": [
        "!pip install catboost"
      ],
      "metadata": {
        "colab": {
          "base_uri": "https://localhost:8080/"
        },
        "id": "NHg1va4XvYoN",
        "outputId": "bc1bb33e-c5b4-4149-b0bc-134adca43e07"
      },
      "execution_count": 1,
      "outputs": [
        {
          "output_type": "stream",
          "name": "stdout",
          "text": [
            "Looking in indexes: https://pypi.org/simple, https://us-python.pkg.dev/colab-wheels/public/simple/\n",
            "Requirement already satisfied: catboost in /usr/local/lib/python3.9/dist-packages (1.1.1)\n",
            "Requirement already satisfied: plotly in /usr/local/lib/python3.9/dist-packages (from catboost) (5.5.0)\n",
            "Requirement already satisfied: six in /usr/local/lib/python3.9/dist-packages (from catboost) (1.15.0)\n",
            "Requirement already satisfied: pandas>=0.24.0 in /usr/local/lib/python3.9/dist-packages (from catboost) (1.4.4)\n",
            "Requirement already satisfied: matplotlib in /usr/local/lib/python3.9/dist-packages (from catboost) (3.7.1)\n",
            "Requirement already satisfied: numpy>=1.16.0 in /usr/local/lib/python3.9/dist-packages (from catboost) (1.22.4)\n",
            "Requirement already satisfied: graphviz in /usr/local/lib/python3.9/dist-packages (from catboost) (0.10.1)\n",
            "Requirement already satisfied: scipy in /usr/local/lib/python3.9/dist-packages (from catboost) (1.10.1)\n",
            "Requirement already satisfied: python-dateutil>=2.8.1 in /usr/local/lib/python3.9/dist-packages (from pandas>=0.24.0->catboost) (2.8.2)\n",
            "Requirement already satisfied: pytz>=2020.1 in /usr/local/lib/python3.9/dist-packages (from pandas>=0.24.0->catboost) (2022.7.1)\n",
            "Requirement already satisfied: packaging>=20.0 in /usr/local/lib/python3.9/dist-packages (from matplotlib->catboost) (23.0)\n",
            "Requirement already satisfied: importlib-resources>=3.2.0 in /usr/local/lib/python3.9/dist-packages (from matplotlib->catboost) (5.12.0)\n",
            "Requirement already satisfied: kiwisolver>=1.0.1 in /usr/local/lib/python3.9/dist-packages (from matplotlib->catboost) (1.4.4)\n",
            "Requirement already satisfied: contourpy>=1.0.1 in /usr/local/lib/python3.9/dist-packages (from matplotlib->catboost) (1.0.7)\n",
            "Requirement already satisfied: pyparsing>=2.3.1 in /usr/local/lib/python3.9/dist-packages (from matplotlib->catboost) (3.0.9)\n",
            "Requirement already satisfied: cycler>=0.10 in /usr/local/lib/python3.9/dist-packages (from matplotlib->catboost) (0.11.0)\n",
            "Requirement already satisfied: pillow>=6.2.0 in /usr/local/lib/python3.9/dist-packages (from matplotlib->catboost) (8.4.0)\n",
            "Requirement already satisfied: fonttools>=4.22.0 in /usr/local/lib/python3.9/dist-packages (from matplotlib->catboost) (4.39.0)\n",
            "Requirement already satisfied: tenacity>=6.2.0 in /usr/local/lib/python3.9/dist-packages (from plotly->catboost) (8.2.2)\n",
            "Requirement already satisfied: zipp>=3.1.0 in /usr/local/lib/python3.9/dist-packages (from importlib-resources>=3.2.0->matplotlib->catboost) (3.15.0)\n"
          ]
        }
      ]
    },
    {
      "cell_type": "code",
      "execution_count": 2,
      "metadata": {
        "id": "RnBX3pg5bHd4"
      },
      "outputs": [],
      "source": [
        "import numpy as np\n",
        "import pandas as pd\n",
        "import seaborn as sns\n",
        "import itertools\n",
        "import sys\n",
        "import matplotlib.pyplot as plt\n",
        "%matplotlib inline\n",
        "\n",
        "# preprocessing\n",
        "from sklearn.preprocessing import LabelEncoder, StandardScaler\n",
        "from sklearn.model_selection import train_test_split, cross_val_score, GridSearchCV\n",
        "import pandas_profiling as pp\n",
        "from sklearn.pipeline import Pipeline, make_pipeline, FeatureUnion\n",
        "from sklearn.base import BaseEstimator, TransformerMixin\n",
        "from sklearn.feature_extraction.text import TfidfVectorizer\n",
        "from sklearn.metrics import precision_recall_curve, roc_curve, roc_auc_score, log_loss, confusion_matrix, accuracy_score\n",
        "\n",
        "# models\n",
        "from sklearn.linear_model import LogisticRegression, Perceptron, RidgeClassifier, SGDClassifier\n",
        "from sklearn.svm import SVC, LinearSVC\n",
        "from sklearn.ensemble import RandomForestClassifier, GradientBoostingClassifier, ExtraTreesClassifier \n",
        "from sklearn.ensemble import BaggingClassifier, AdaBoostClassifier, VotingClassifier \n",
        "from sklearn.neighbors import KNeighborsClassifier\n",
        "from sklearn.naive_bayes import GaussianNB\n",
        "from sklearn.tree import DecisionTreeClassifier\n",
        "import xgboost as xgb\n",
        "from xgboost import XGBClassifier\n",
        "import lightgbm as lgb\n",
        "from lightgbm import LGBMClassifier\n",
        "import catboost\n",
        "from catboost import CatBoostClassifier\n",
        "\n",
        "# import warnings filter\n",
        "from warnings import simplefilter\n",
        "# ignore all future warnings\n",
        "simplefilter(action='ignore', category=FutureWarning)\n"
      ]
    },
    {
      "cell_type": "code",
      "source": [
        "data = pd.read_csv('/content/drive/MyDrive/GB/ML in business/Lection3/train_case2.csv', sep=';')\n",
        "data.head()"
      ],
      "metadata": {
        "colab": {
          "base_uri": "https://localhost:8080/",
          "height": 206
        },
        "id": "1r-9M5kpcOsK",
        "outputId": "c49df902-9db1-48ae-8a8c-b351ec63e51d"
      },
      "execution_count": 3,
      "outputs": [
        {
          "output_type": "execute_result",
          "data": {
            "text/plain": [
              "   id    age  gender  height  weight  ap_hi  ap_lo  cholesterol  gluc  smoke  \\\n",
              "0   0  18393       2     168    62.0    110     80            1     1      0   \n",
              "1   1  20228       1     156    85.0    140     90            3     1      0   \n",
              "2   2  18857       1     165    64.0    130     70            3     1      0   \n",
              "3   3  17623       2     169    82.0    150    100            1     1      0   \n",
              "4   4  17474       1     156    56.0    100     60            1     1      0   \n",
              "\n",
              "   alco  active  cardio  \n",
              "0     0       1       0  \n",
              "1     0       1       1  \n",
              "2     0       0       1  \n",
              "3     0       1       1  \n",
              "4     0       0       0  "
            ],
            "text/html": [
              "\n",
              "  <div id=\"df-04379965-b5a9-4111-b9ea-92d9cf8c1c66\">\n",
              "    <div class=\"colab-df-container\">\n",
              "      <div>\n",
              "<style scoped>\n",
              "    .dataframe tbody tr th:only-of-type {\n",
              "        vertical-align: middle;\n",
              "    }\n",
              "\n",
              "    .dataframe tbody tr th {\n",
              "        vertical-align: top;\n",
              "    }\n",
              "\n",
              "    .dataframe thead th {\n",
              "        text-align: right;\n",
              "    }\n",
              "</style>\n",
              "<table border=\"1\" class=\"dataframe\">\n",
              "  <thead>\n",
              "    <tr style=\"text-align: right;\">\n",
              "      <th></th>\n",
              "      <th>id</th>\n",
              "      <th>age</th>\n",
              "      <th>gender</th>\n",
              "      <th>height</th>\n",
              "      <th>weight</th>\n",
              "      <th>ap_hi</th>\n",
              "      <th>ap_lo</th>\n",
              "      <th>cholesterol</th>\n",
              "      <th>gluc</th>\n",
              "      <th>smoke</th>\n",
              "      <th>alco</th>\n",
              "      <th>active</th>\n",
              "      <th>cardio</th>\n",
              "    </tr>\n",
              "  </thead>\n",
              "  <tbody>\n",
              "    <tr>\n",
              "      <th>0</th>\n",
              "      <td>0</td>\n",
              "      <td>18393</td>\n",
              "      <td>2</td>\n",
              "      <td>168</td>\n",
              "      <td>62.0</td>\n",
              "      <td>110</td>\n",
              "      <td>80</td>\n",
              "      <td>1</td>\n",
              "      <td>1</td>\n",
              "      <td>0</td>\n",
              "      <td>0</td>\n",
              "      <td>1</td>\n",
              "      <td>0</td>\n",
              "    </tr>\n",
              "    <tr>\n",
              "      <th>1</th>\n",
              "      <td>1</td>\n",
              "      <td>20228</td>\n",
              "      <td>1</td>\n",
              "      <td>156</td>\n",
              "      <td>85.0</td>\n",
              "      <td>140</td>\n",
              "      <td>90</td>\n",
              "      <td>3</td>\n",
              "      <td>1</td>\n",
              "      <td>0</td>\n",
              "      <td>0</td>\n",
              "      <td>1</td>\n",
              "      <td>1</td>\n",
              "    </tr>\n",
              "    <tr>\n",
              "      <th>2</th>\n",
              "      <td>2</td>\n",
              "      <td>18857</td>\n",
              "      <td>1</td>\n",
              "      <td>165</td>\n",
              "      <td>64.0</td>\n",
              "      <td>130</td>\n",
              "      <td>70</td>\n",
              "      <td>3</td>\n",
              "      <td>1</td>\n",
              "      <td>0</td>\n",
              "      <td>0</td>\n",
              "      <td>0</td>\n",
              "      <td>1</td>\n",
              "    </tr>\n",
              "    <tr>\n",
              "      <th>3</th>\n",
              "      <td>3</td>\n",
              "      <td>17623</td>\n",
              "      <td>2</td>\n",
              "      <td>169</td>\n",
              "      <td>82.0</td>\n",
              "      <td>150</td>\n",
              "      <td>100</td>\n",
              "      <td>1</td>\n",
              "      <td>1</td>\n",
              "      <td>0</td>\n",
              "      <td>0</td>\n",
              "      <td>1</td>\n",
              "      <td>1</td>\n",
              "    </tr>\n",
              "    <tr>\n",
              "      <th>4</th>\n",
              "      <td>4</td>\n",
              "      <td>17474</td>\n",
              "      <td>1</td>\n",
              "      <td>156</td>\n",
              "      <td>56.0</td>\n",
              "      <td>100</td>\n",
              "      <td>60</td>\n",
              "      <td>1</td>\n",
              "      <td>1</td>\n",
              "      <td>0</td>\n",
              "      <td>0</td>\n",
              "      <td>0</td>\n",
              "      <td>0</td>\n",
              "    </tr>\n",
              "  </tbody>\n",
              "</table>\n",
              "</div>\n",
              "      <button class=\"colab-df-convert\" onclick=\"convertToInteractive('df-04379965-b5a9-4111-b9ea-92d9cf8c1c66')\"\n",
              "              title=\"Convert this dataframe to an interactive table.\"\n",
              "              style=\"display:none;\">\n",
              "        \n",
              "  <svg xmlns=\"http://www.w3.org/2000/svg\" height=\"24px\"viewBox=\"0 0 24 24\"\n",
              "       width=\"24px\">\n",
              "    <path d=\"M0 0h24v24H0V0z\" fill=\"none\"/>\n",
              "    <path d=\"M18.56 5.44l.94 2.06.94-2.06 2.06-.94-2.06-.94-.94-2.06-.94 2.06-2.06.94zm-11 1L8.5 8.5l.94-2.06 2.06-.94-2.06-.94L8.5 2.5l-.94 2.06-2.06.94zm10 10l.94 2.06.94-2.06 2.06-.94-2.06-.94-.94-2.06-.94 2.06-2.06.94z\"/><path d=\"M17.41 7.96l-1.37-1.37c-.4-.4-.92-.59-1.43-.59-.52 0-1.04.2-1.43.59L10.3 9.45l-7.72 7.72c-.78.78-.78 2.05 0 2.83L4 21.41c.39.39.9.59 1.41.59.51 0 1.02-.2 1.41-.59l7.78-7.78 2.81-2.81c.8-.78.8-2.07 0-2.86zM5.41 20L4 18.59l7.72-7.72 1.47 1.35L5.41 20z\"/>\n",
              "  </svg>\n",
              "      </button>\n",
              "      \n",
              "  <style>\n",
              "    .colab-df-container {\n",
              "      display:flex;\n",
              "      flex-wrap:wrap;\n",
              "      gap: 12px;\n",
              "    }\n",
              "\n",
              "    .colab-df-convert {\n",
              "      background-color: #E8F0FE;\n",
              "      border: none;\n",
              "      border-radius: 50%;\n",
              "      cursor: pointer;\n",
              "      display: none;\n",
              "      fill: #1967D2;\n",
              "      height: 32px;\n",
              "      padding: 0 0 0 0;\n",
              "      width: 32px;\n",
              "    }\n",
              "\n",
              "    .colab-df-convert:hover {\n",
              "      background-color: #E2EBFA;\n",
              "      box-shadow: 0px 1px 2px rgba(60, 64, 67, 0.3), 0px 1px 3px 1px rgba(60, 64, 67, 0.15);\n",
              "      fill: #174EA6;\n",
              "    }\n",
              "\n",
              "    [theme=dark] .colab-df-convert {\n",
              "      background-color: #3B4455;\n",
              "      fill: #D2E3FC;\n",
              "    }\n",
              "\n",
              "    [theme=dark] .colab-df-convert:hover {\n",
              "      background-color: #434B5C;\n",
              "      box-shadow: 0px 1px 3px 1px rgba(0, 0, 0, 0.15);\n",
              "      filter: drop-shadow(0px 1px 2px rgba(0, 0, 0, 0.3));\n",
              "      fill: #FFFFFF;\n",
              "    }\n",
              "  </style>\n",
              "\n",
              "      <script>\n",
              "        const buttonEl =\n",
              "          document.querySelector('#df-04379965-b5a9-4111-b9ea-92d9cf8c1c66 button.colab-df-convert');\n",
              "        buttonEl.style.display =\n",
              "          google.colab.kernel.accessAllowed ? 'block' : 'none';\n",
              "\n",
              "        async function convertToInteractive(key) {\n",
              "          const element = document.querySelector('#df-04379965-b5a9-4111-b9ea-92d9cf8c1c66');\n",
              "          const dataTable =\n",
              "            await google.colab.kernel.invokeFunction('convertToInteractive',\n",
              "                                                     [key], {});\n",
              "          if (!dataTable) return;\n",
              "\n",
              "          const docLinkHtml = 'Like what you see? Visit the ' +\n",
              "            '<a target=\"_blank\" href=https://colab.research.google.com/notebooks/data_table.ipynb>data table notebook</a>'\n",
              "            + ' to learn more about interactive tables.';\n",
              "          element.innerHTML = '';\n",
              "          dataTable['output_type'] = 'display_data';\n",
              "          await google.colab.output.renderOutput(dataTable, element);\n",
              "          const docLink = document.createElement('div');\n",
              "          docLink.innerHTML = docLinkHtml;\n",
              "          element.appendChild(docLink);\n",
              "        }\n",
              "      </script>\n",
              "    </div>\n",
              "  </div>\n",
              "  "
            ]
          },
          "metadata": {},
          "execution_count": 3
        }
      ]
    },
    {
      "cell_type": "code",
      "source": [
        "data.describe()"
      ],
      "metadata": {
        "colab": {
          "base_uri": "https://localhost:8080/",
          "height": 364
        },
        "id": "70s7fuGEdjOU",
        "outputId": "a8897479-59ca-4d2f-8169-73da7e91e26c"
      },
      "execution_count": 4,
      "outputs": [
        {
          "output_type": "execute_result",
          "data": {
            "text/plain": [
              "                 id           age        gender        height        weight  \\\n",
              "count  70000.000000  70000.000000  70000.000000  70000.000000  70000.000000   \n",
              "mean   49972.419900  19468.865814      1.349571    164.359229     74.205690   \n",
              "std    28851.302323   2467.251667      0.476838      8.210126     14.395757   \n",
              "min        0.000000  10798.000000      1.000000     55.000000     10.000000   \n",
              "25%    25006.750000  17664.000000      1.000000    159.000000     65.000000   \n",
              "50%    50001.500000  19703.000000      1.000000    165.000000     72.000000   \n",
              "75%    74889.250000  21327.000000      2.000000    170.000000     82.000000   \n",
              "max    99999.000000  23713.000000      2.000000    250.000000    200.000000   \n",
              "\n",
              "              ap_hi         ap_lo   cholesterol          gluc         smoke  \\\n",
              "count  70000.000000  70000.000000  70000.000000  70000.000000  70000.000000   \n",
              "mean     128.817286     96.630414      1.366871      1.226457      0.088129   \n",
              "std      154.011419    188.472530      0.680250      0.572270      0.283484   \n",
              "min     -150.000000    -70.000000      1.000000      1.000000      0.000000   \n",
              "25%      120.000000     80.000000      1.000000      1.000000      0.000000   \n",
              "50%      120.000000     80.000000      1.000000      1.000000      0.000000   \n",
              "75%      140.000000     90.000000      2.000000      1.000000      0.000000   \n",
              "max    16020.000000  11000.000000      3.000000      3.000000      1.000000   \n",
              "\n",
              "               alco        active        cardio  \n",
              "count  70000.000000  70000.000000  70000.000000  \n",
              "mean       0.053771      0.803729      0.499700  \n",
              "std        0.225568      0.397179      0.500003  \n",
              "min        0.000000      0.000000      0.000000  \n",
              "25%        0.000000      1.000000      0.000000  \n",
              "50%        0.000000      1.000000      0.000000  \n",
              "75%        0.000000      1.000000      1.000000  \n",
              "max        1.000000      1.000000      1.000000  "
            ],
            "text/html": [
              "\n",
              "  <div id=\"df-add0008b-40b9-431a-9169-438bc32d511e\">\n",
              "    <div class=\"colab-df-container\">\n",
              "      <div>\n",
              "<style scoped>\n",
              "    .dataframe tbody tr th:only-of-type {\n",
              "        vertical-align: middle;\n",
              "    }\n",
              "\n",
              "    .dataframe tbody tr th {\n",
              "        vertical-align: top;\n",
              "    }\n",
              "\n",
              "    .dataframe thead th {\n",
              "        text-align: right;\n",
              "    }\n",
              "</style>\n",
              "<table border=\"1\" class=\"dataframe\">\n",
              "  <thead>\n",
              "    <tr style=\"text-align: right;\">\n",
              "      <th></th>\n",
              "      <th>id</th>\n",
              "      <th>age</th>\n",
              "      <th>gender</th>\n",
              "      <th>height</th>\n",
              "      <th>weight</th>\n",
              "      <th>ap_hi</th>\n",
              "      <th>ap_lo</th>\n",
              "      <th>cholesterol</th>\n",
              "      <th>gluc</th>\n",
              "      <th>smoke</th>\n",
              "      <th>alco</th>\n",
              "      <th>active</th>\n",
              "      <th>cardio</th>\n",
              "    </tr>\n",
              "  </thead>\n",
              "  <tbody>\n",
              "    <tr>\n",
              "      <th>count</th>\n",
              "      <td>70000.000000</td>\n",
              "      <td>70000.000000</td>\n",
              "      <td>70000.000000</td>\n",
              "      <td>70000.000000</td>\n",
              "      <td>70000.000000</td>\n",
              "      <td>70000.000000</td>\n",
              "      <td>70000.000000</td>\n",
              "      <td>70000.000000</td>\n",
              "      <td>70000.000000</td>\n",
              "      <td>70000.000000</td>\n",
              "      <td>70000.000000</td>\n",
              "      <td>70000.000000</td>\n",
              "      <td>70000.000000</td>\n",
              "    </tr>\n",
              "    <tr>\n",
              "      <th>mean</th>\n",
              "      <td>49972.419900</td>\n",
              "      <td>19468.865814</td>\n",
              "      <td>1.349571</td>\n",
              "      <td>164.359229</td>\n",
              "      <td>74.205690</td>\n",
              "      <td>128.817286</td>\n",
              "      <td>96.630414</td>\n",
              "      <td>1.366871</td>\n",
              "      <td>1.226457</td>\n",
              "      <td>0.088129</td>\n",
              "      <td>0.053771</td>\n",
              "      <td>0.803729</td>\n",
              "      <td>0.499700</td>\n",
              "    </tr>\n",
              "    <tr>\n",
              "      <th>std</th>\n",
              "      <td>28851.302323</td>\n",
              "      <td>2467.251667</td>\n",
              "      <td>0.476838</td>\n",
              "      <td>8.210126</td>\n",
              "      <td>14.395757</td>\n",
              "      <td>154.011419</td>\n",
              "      <td>188.472530</td>\n",
              "      <td>0.680250</td>\n",
              "      <td>0.572270</td>\n",
              "      <td>0.283484</td>\n",
              "      <td>0.225568</td>\n",
              "      <td>0.397179</td>\n",
              "      <td>0.500003</td>\n",
              "    </tr>\n",
              "    <tr>\n",
              "      <th>min</th>\n",
              "      <td>0.000000</td>\n",
              "      <td>10798.000000</td>\n",
              "      <td>1.000000</td>\n",
              "      <td>55.000000</td>\n",
              "      <td>10.000000</td>\n",
              "      <td>-150.000000</td>\n",
              "      <td>-70.000000</td>\n",
              "      <td>1.000000</td>\n",
              "      <td>1.000000</td>\n",
              "      <td>0.000000</td>\n",
              "      <td>0.000000</td>\n",
              "      <td>0.000000</td>\n",
              "      <td>0.000000</td>\n",
              "    </tr>\n",
              "    <tr>\n",
              "      <th>25%</th>\n",
              "      <td>25006.750000</td>\n",
              "      <td>17664.000000</td>\n",
              "      <td>1.000000</td>\n",
              "      <td>159.000000</td>\n",
              "      <td>65.000000</td>\n",
              "      <td>120.000000</td>\n",
              "      <td>80.000000</td>\n",
              "      <td>1.000000</td>\n",
              "      <td>1.000000</td>\n",
              "      <td>0.000000</td>\n",
              "      <td>0.000000</td>\n",
              "      <td>1.000000</td>\n",
              "      <td>0.000000</td>\n",
              "    </tr>\n",
              "    <tr>\n",
              "      <th>50%</th>\n",
              "      <td>50001.500000</td>\n",
              "      <td>19703.000000</td>\n",
              "      <td>1.000000</td>\n",
              "      <td>165.000000</td>\n",
              "      <td>72.000000</td>\n",
              "      <td>120.000000</td>\n",
              "      <td>80.000000</td>\n",
              "      <td>1.000000</td>\n",
              "      <td>1.000000</td>\n",
              "      <td>0.000000</td>\n",
              "      <td>0.000000</td>\n",
              "      <td>1.000000</td>\n",
              "      <td>0.000000</td>\n",
              "    </tr>\n",
              "    <tr>\n",
              "      <th>75%</th>\n",
              "      <td>74889.250000</td>\n",
              "      <td>21327.000000</td>\n",
              "      <td>2.000000</td>\n",
              "      <td>170.000000</td>\n",
              "      <td>82.000000</td>\n",
              "      <td>140.000000</td>\n",
              "      <td>90.000000</td>\n",
              "      <td>2.000000</td>\n",
              "      <td>1.000000</td>\n",
              "      <td>0.000000</td>\n",
              "      <td>0.000000</td>\n",
              "      <td>1.000000</td>\n",
              "      <td>1.000000</td>\n",
              "    </tr>\n",
              "    <tr>\n",
              "      <th>max</th>\n",
              "      <td>99999.000000</td>\n",
              "      <td>23713.000000</td>\n",
              "      <td>2.000000</td>\n",
              "      <td>250.000000</td>\n",
              "      <td>200.000000</td>\n",
              "      <td>16020.000000</td>\n",
              "      <td>11000.000000</td>\n",
              "      <td>3.000000</td>\n",
              "      <td>3.000000</td>\n",
              "      <td>1.000000</td>\n",
              "      <td>1.000000</td>\n",
              "      <td>1.000000</td>\n",
              "      <td>1.000000</td>\n",
              "    </tr>\n",
              "  </tbody>\n",
              "</table>\n",
              "</div>\n",
              "      <button class=\"colab-df-convert\" onclick=\"convertToInteractive('df-add0008b-40b9-431a-9169-438bc32d511e')\"\n",
              "              title=\"Convert this dataframe to an interactive table.\"\n",
              "              style=\"display:none;\">\n",
              "        \n",
              "  <svg xmlns=\"http://www.w3.org/2000/svg\" height=\"24px\"viewBox=\"0 0 24 24\"\n",
              "       width=\"24px\">\n",
              "    <path d=\"M0 0h24v24H0V0z\" fill=\"none\"/>\n",
              "    <path d=\"M18.56 5.44l.94 2.06.94-2.06 2.06-.94-2.06-.94-.94-2.06-.94 2.06-2.06.94zm-11 1L8.5 8.5l.94-2.06 2.06-.94-2.06-.94L8.5 2.5l-.94 2.06-2.06.94zm10 10l.94 2.06.94-2.06 2.06-.94-2.06-.94-.94-2.06-.94 2.06-2.06.94z\"/><path d=\"M17.41 7.96l-1.37-1.37c-.4-.4-.92-.59-1.43-.59-.52 0-1.04.2-1.43.59L10.3 9.45l-7.72 7.72c-.78.78-.78 2.05 0 2.83L4 21.41c.39.39.9.59 1.41.59.51 0 1.02-.2 1.41-.59l7.78-7.78 2.81-2.81c.8-.78.8-2.07 0-2.86zM5.41 20L4 18.59l7.72-7.72 1.47 1.35L5.41 20z\"/>\n",
              "  </svg>\n",
              "      </button>\n",
              "      \n",
              "  <style>\n",
              "    .colab-df-container {\n",
              "      display:flex;\n",
              "      flex-wrap:wrap;\n",
              "      gap: 12px;\n",
              "    }\n",
              "\n",
              "    .colab-df-convert {\n",
              "      background-color: #E8F0FE;\n",
              "      border: none;\n",
              "      border-radius: 50%;\n",
              "      cursor: pointer;\n",
              "      display: none;\n",
              "      fill: #1967D2;\n",
              "      height: 32px;\n",
              "      padding: 0 0 0 0;\n",
              "      width: 32px;\n",
              "    }\n",
              "\n",
              "    .colab-df-convert:hover {\n",
              "      background-color: #E2EBFA;\n",
              "      box-shadow: 0px 1px 2px rgba(60, 64, 67, 0.3), 0px 1px 3px 1px rgba(60, 64, 67, 0.15);\n",
              "      fill: #174EA6;\n",
              "    }\n",
              "\n",
              "    [theme=dark] .colab-df-convert {\n",
              "      background-color: #3B4455;\n",
              "      fill: #D2E3FC;\n",
              "    }\n",
              "\n",
              "    [theme=dark] .colab-df-convert:hover {\n",
              "      background-color: #434B5C;\n",
              "      box-shadow: 0px 1px 3px 1px rgba(0, 0, 0, 0.15);\n",
              "      filter: drop-shadow(0px 1px 2px rgba(0, 0, 0, 0.3));\n",
              "      fill: #FFFFFF;\n",
              "    }\n",
              "  </style>\n",
              "\n",
              "      <script>\n",
              "        const buttonEl =\n",
              "          document.querySelector('#df-add0008b-40b9-431a-9169-438bc32d511e button.colab-df-convert');\n",
              "        buttonEl.style.display =\n",
              "          google.colab.kernel.accessAllowed ? 'block' : 'none';\n",
              "\n",
              "        async function convertToInteractive(key) {\n",
              "          const element = document.querySelector('#df-add0008b-40b9-431a-9169-438bc32d511e');\n",
              "          const dataTable =\n",
              "            await google.colab.kernel.invokeFunction('convertToInteractive',\n",
              "                                                     [key], {});\n",
              "          if (!dataTable) return;\n",
              "\n",
              "          const docLinkHtml = 'Like what you see? Visit the ' +\n",
              "            '<a target=\"_blank\" href=https://colab.research.google.com/notebooks/data_table.ipynb>data table notebook</a>'\n",
              "            + ' to learn more about interactive tables.';\n",
              "          element.innerHTML = '';\n",
              "          dataTable['output_type'] = 'display_data';\n",
              "          await google.colab.output.renderOutput(dataTable, element);\n",
              "          const docLink = document.createElement('div');\n",
              "          docLink.innerHTML = docLinkHtml;\n",
              "          element.appendChild(docLink);\n",
              "        }\n",
              "      </script>\n",
              "    </div>\n",
              "  </div>\n",
              "  "
            ]
          },
          "metadata": {},
          "execution_count": 4
        }
      ]
    },
    {
      "cell_type": "code",
      "source": [
        "data['bmi'] = data.weight / (data.height/100)**2"
      ],
      "metadata": {
        "id": "pOQLdm0jMan4"
      },
      "execution_count": 5,
      "outputs": []
    },
    {
      "cell_type": "code",
      "source": [
        "data.loc[data.height < 100, ['height']] = data.height + 100\n",
        "data.loc[data.ap_hi < 0, ['ap_hi']] = data.ap_hi * -1 \n",
        "data.loc[data.ap_hi < 30, ['ap_hi']] = data.ap_hi * 10\n",
        "data.loc[(data.ap_hi > 250) & (data.ap_hi < 500), ['ap_hi']] = data.ap_hi.median()\n",
        "data.loc[(data.ap_hi > 250) & (data.ap_hi < 10000), ['ap_hi']] = round(data.ap_hi / 10)\n",
        "data.loc[data.ap_hi > 1000, ['ap_hi']] = round(data.ap_hi / 100)\n",
        "data.loc[data.ap_lo < 0, ['ap_lo']] = data.ap_lo * -1\n",
        "data.loc[data.ap_lo > 1500, ['ap_lo']] = round(data.ap_lo / 100) \n",
        "data.loc[data.ap_lo > 200, ['ap_lo']] = round(data.ap_lo / 10)\n",
        "data.loc[data.bmi <= 12, ['weight']] = (data.height / 100)**2 * 21.7\n",
        "mask = data.ap_lo > data.ap_hi\n",
        "data.loc[mask, ['ap_hi', 'ap_lo']] = data.loc[mask, ['ap_lo', 'ap_hi']].values\n",
        "data.loc[data.ap_lo < 20, ['ap_lo']] = data.ap_hi - 40"
      ],
      "metadata": {
        "id": "xHVHakZRsKrm"
      },
      "execution_count": 6,
      "outputs": []
    },
    {
      "cell_type": "code",
      "source": [
        "data.drop(['id', 'bmi'], axis=1, inplace=True)\n",
        "data['bmi'] = data.weight / (data.height/100)**2"
      ],
      "metadata": {
        "id": "b4p0kQ02JKrC"
      },
      "execution_count": 7,
      "outputs": []
    },
    {
      "cell_type": "code",
      "source": [
        "class ColumnSelector(BaseEstimator, TransformerMixin):\n",
        "    \"\"\"\n",
        "    Transformer to select a single column from the data frame to perform additional transformations on\n",
        "    \"\"\"\n",
        "    def __init__(self, key):\n",
        "        self.key = key\n",
        "\n",
        "    def fit(self, X, y=None):\n",
        "        return self\n",
        "\n",
        "    def transform(self, X):\n",
        "        return X[self.key]\n",
        "    \n",
        "class NumberSelector(BaseEstimator, TransformerMixin):\n",
        "    \"\"\"\n",
        "    Transformer to select a single column from the data frame to perform additional transformations on\n",
        "    Use on numeric columns in the data\n",
        "    \"\"\"\n",
        "    def __init__(self, key):\n",
        "        self.key = key\n",
        "\n",
        "    def fit(self, X, y=None):\n",
        "        return self\n",
        "\n",
        "    def transform(self, X):\n",
        "        return X[[self.key]]\n",
        "    \n",
        "class OHEEncoder(BaseEstimator, TransformerMixin):\n",
        "    def __init__(self, key):\n",
        "        self.key = key\n",
        "        self.columns = []\n",
        "\n",
        "    def fit(self, X, y=None):\n",
        "        self.columns = [col for col in pd.get_dummies(X, prefix=self.key).columns]\n",
        "        return self\n",
        "\n",
        "    def transform(self, X):\n",
        "        X = pd.get_dummies(X, prefix=self.key)\n",
        "        test_columns = [col for col in X.columns]\n",
        "        for col_ in test_columns:\n",
        "            if col_ not in self.columns:\n",
        "                X[col_] = 0\n",
        "        return X[self.columns]\n",
        "\n",
        "\n",
        "continuos_cols = ['age', 'height', 'weight', 'ap_hi', 'ap_lo', 'bmi']\n",
        "cat_cols = ['gender', 'cholesterol']\n",
        "base_cols = ['gluc', 'smoke', 'alco', 'active']\n",
        "\n",
        "continuos_transformers = []\n",
        "cat_transformers = []\n",
        "base_transformers = []\n",
        "\n",
        "for cont_col in continuos_cols:\n",
        "    transfomer =  Pipeline([\n",
        "                ('selector', NumberSelector(key=cont_col)),\n",
        "                ('standard', StandardScaler())\n",
        "            ])\n",
        "    continuos_transformers.append((cont_col, transfomer))\n",
        "    \n",
        "for cat_col in cat_cols:\n",
        "    cat_transformer = Pipeline([\n",
        "                ('selector', ColumnSelector(key=cat_col)),\n",
        "                ('ohe', OHEEncoder(key=cat_col))\n",
        "            ])\n",
        "    cat_transformers.append((cat_col, cat_transformer))\n",
        "    \n",
        "for base_col in base_cols:\n",
        "    base_transformer = Pipeline([\n",
        "                ('selector', NumberSelector(key=base_col))\n",
        "            ])\n",
        "    base_transformers.append((base_col, base_transformer))"
      ],
      "metadata": {
        "id": "uXpSBTWFNZq1"
      },
      "execution_count": 8,
      "outputs": []
    },
    {
      "cell_type": "code",
      "source": [
        "#разделим данные на train/test\n",
        "X_train, X_test, y_train, y_test = train_test_split(data.drop('cardio', 1), \n",
        "                                                    data['cardio'], test_size=0.25, random_state=42)"
      ],
      "metadata": {
        "id": "CAmD1pkDOsgf"
      },
      "execution_count": 9,
      "outputs": []
    },
    {
      "cell_type": "code",
      "source": [
        "feats = FeatureUnion(continuos_transformers+cat_transformers+base_transformers)\n",
        "feature_processing = Pipeline([('feats', feats)])\n",
        "\n",
        "feature_processing.fit_transform(X_train)"
      ],
      "metadata": {
        "colab": {
          "base_uri": "https://localhost:8080/"
        },
        "id": "8GMOzzPcPCEf",
        "outputId": "f08b2c21-48d6-4110-c53c-8a7690e9ed82"
      },
      "execution_count": 10,
      "outputs": [
        {
          "output_type": "execute_result",
          "data": {
            "text/plain": [
              "array([[ 0.09144178,  0.45260489,  0.05733029, ...,  0.        ,\n",
              "         0.        ,  1.        ],\n",
              "       [ 0.46216539,  0.20235206, -0.84814924, ...,  0.        ,\n",
              "         0.        ,  1.        ],\n",
              "       [ 1.5702846 , -1.04891211,  1.79863709, ...,  0.        ,\n",
              "         0.        ,  1.        ],\n",
              "       ...,\n",
              "       [ 1.67238553,  0.57773131, -0.01232198, ...,  0.        ,\n",
              "         0.        ,  1.        ],\n",
              "       [-0.50009534,  0.32747848, -0.29093106, ...,  0.        ,\n",
              "         0.        ,  0.        ],\n",
              "       [-1.76136594,  1.57874265, -0.7088447 , ...,  0.        ,\n",
              "         0.        ,  1.        ]])"
            ]
          },
          "metadata": {},
          "execution_count": 10
        }
      ]
    },
    {
      "cell_type": "code",
      "source": [
        "def plot_cm(cm, classes,normalize=False, title='Confusion matrix', cmap=plt.cm.Blues):\n",
        "\n",
        "  plt.imshow(cm, interpolation='nearest', cmap=cmap)\n",
        "  plt.title(title)\n",
        "  plt.colorbar()\n",
        "  tick_marks = np.arange(len(classes))\n",
        "  plt.xticks(tick_marks, classes, rotation=45)\n",
        "  plt.yticks(tick_marks, classes)\n",
        "\n",
        "  if normalize:\n",
        "    cm = cm.astype('float') / cm.sum(axis=1)[:, np.newaxis]\n",
        "    print('Normalized confusion matrix')\n",
        "  else:\n",
        "    print('Confusion matrix, without normalization')\n",
        "\n",
        "  print(cm)\n",
        "\n",
        "  thresh = cm.max() / 2\n",
        "  for i, j in itertools.product(range(cm.shape[0]), range(cm.shape[1])):\n",
        "    plt.text(j, i, cm[i, j], horizontalalignment='center', color='red')\n",
        "\n",
        "  plt.tight_layout()\n",
        "  plt.ylabel('True label')\n",
        "  plt.xlabel('Predicted label')"
      ],
      "metadata": {
        "id": "YiMgmhA6TOWJ"
      },
      "execution_count": 11,
      "outputs": []
    },
    {
      "cell_type": "code",
      "source": [
        "# Logistic Regression\n",
        "\n",
        "classifier_lr = Pipeline([\n",
        "    ('features', feats),\n",
        "    ('classifier', LogisticRegression(C=0.01, solver='newton-cholesky', random_state=42)),\n",
        "])\n",
        "\n",
        "\n",
        "#запустим кросс-валидацию\n",
        "cv_scores = cross_val_score(classifier_lr, X_train, y_train, cv=10, scoring='roc_auc')\n",
        "cv_score = np.mean(cv_scores)\n",
        "cv_score_std = np.std(cv_scores)\n",
        "print('CV score is {}+-{}'.format(cv_score, cv_score_std))\n",
        "\n",
        "#обучим пайплайн на всем тренировочном датасете\n",
        "classifier_lr.fit(X_train, y_train)\n",
        "y_score_lr = classifier_lr.predict_proba(X_test)[:, 1]"
      ],
      "metadata": {
        "colab": {
          "base_uri": "https://localhost:8080/"
        },
        "id": "ZWyvMqVNPdxx",
        "outputId": "bc7e13be-6781-43f9-d10f-21d1e48e53a1"
      },
      "execution_count": 12,
      "outputs": [
        {
          "output_type": "stream",
          "name": "stdout",
          "text": [
            "CV score is 0.7930701256897537+-0.007887131817065468\n"
          ]
        }
      ]
    },
    {
      "cell_type": "code",
      "source": [
        "b=1\n",
        "precision_lr, recall_lr, thresholds_lr = precision_recall_curve(y_test.values, y_score_lr)\n",
        "# print(precision_lr)\n",
        "# print(recall_lr)\n",
        "# print(thresholds_lr)\n",
        "fscore_lr = (1+b**2)*(precision_lr * recall_lr) / (b**2*precision_lr + recall_lr)\n",
        "# print(fscore_lr)\n",
        "# locate the index of the largest f score\n",
        "ix_lr = np.argmax(fscore_lr)\n",
        "print('Best Threshold=%f, F-Score=%.3f, Precision=%.3f, Recall=%.3f' % (thresholds_lr[ix_lr], \n",
        "                                                                        fscore_lr[ix_lr],\n",
        "                                                                        precision_lr[ix_lr],\n",
        "                                                                        recall_lr[ix_lr]))\n",
        "\n",
        "roc_auc_lr = roc_auc_score(y_true=y_test, y_score=y_score_lr)\n",
        "log_loss_score_lr = log_loss(y_true=y_test, y_pred=y_score_lr)\n",
        "accuracy_lr = accuracy_score(y_true=y_test, y_pred=classifier_lr.predict(X_test))\n",
        "print(f'roc auc score: {roc_auc_lr}')\n",
        "print(f'log loss score: {log_loss_score_lr}')\n",
        "print(f'accuracy: {accuracy_lr}')"
      ],
      "metadata": {
        "colab": {
          "base_uri": "https://localhost:8080/"
        },
        "id": "1Jr6w7FEPkqv",
        "outputId": "6a01d97a-011f-4b66-eaf7-b4f79a552d53"
      },
      "execution_count": 13,
      "outputs": [
        {
          "output_type": "stream",
          "name": "stdout",
          "text": [
            "Best Threshold=0.419743, F-Score=0.741, Precision=0.703, Recall=0.783\n",
            "roc auc score: 0.7945221961576754\n",
            "log loss score: 0.5571964839581172\n",
            "accuracy: 0.7337142857142858\n"
          ]
        }
      ]
    },
    {
      "cell_type": "code",
      "source": [
        "font = {'size' : 15}\n",
        "\n",
        "plt.rc('font', **font)\n",
        "\n",
        "cnf_matrix_lr = confusion_matrix(y_test, y_score_lr>thresholds_lr[ix_lr])\n",
        "plt.figure(figsize=(10, 8))\n",
        "plot_cm(cnf_matrix_lr, classes=['cardio_0', 'cardio_1'],\n",
        "                      title='Confusion matrix_Logistic Regression')\n",
        "plt.show()"
      ],
      "metadata": {
        "colab": {
          "base_uri": "https://localhost:8080/",
          "height": 645
        },
        "id": "fFHfahgySP1v",
        "outputId": "0ba183f0-9c60-4ab9-bc81-46a008b65b75"
      },
      "execution_count": 14,
      "outputs": [
        {
          "output_type": "stream",
          "name": "stdout",
          "text": [
            "Confusion matrix, without normalization\n",
            "[[5772 2916]\n",
            " [1914 6898]]\n"
          ]
        },
        {
          "output_type": "display_data",
          "data": {
            "text/plain": [
              "<Figure size 720x576 with 2 Axes>"
            ],
            "image/png": "[encoded data removed]"
          },
          "metadata": {
            "needs_background": "light"
          }
        }
      ]
    },
    {
      "cell_type": "code",
      "source": [
        "TN_lr = cnf_matrix_lr[0][0]\n",
        "FN_lr = cnf_matrix_lr[1][0]\n",
        "TP_lr = cnf_matrix_lr[1][1]\n",
        "FP_lr = cnf_matrix_lr[0][1]\n",
        "\n",
        "TPR_lr = TP_lr/(TP_lr+FN_lr)\n",
        "FPR_lr = FP_lr/(FP_lr+TN_lr)\n",
        "TNR_lr = TN_lr/(FP_lr+TN_lr)\n",
        "TPR_lr, FPR_lr, TNR_lr\n"
      ],
      "metadata": {
        "colab": {
          "base_uri": "https://localhost:8080/"
        },
        "id": "7U5xOrjMXUUB",
        "outputId": "24aa04ff-76cd-4c7f-dc1a-245088484b92"
      },
      "execution_count": 15,
      "outputs": [
        {
          "output_type": "execute_result",
          "data": {
            "text/plain": [
              "(0.7827961870177031, 0.3356353591160221, 0.664364640883978)"
            ]
          },
          "metadata": {},
          "execution_count": 15
        }
      ]
    },
    {
      "cell_type": "code",
      "source": [
        "# Decision Tree\n",
        "\n",
        "classifier_dt = Pipeline([\n",
        "    ('features',feats),\n",
        "    ('classifier', DecisionTreeClassifier(random_state=42, max_depth=3, criterion='log_loss')),\n",
        "])\n",
        "\n",
        "\n",
        "#запустим кросс-валидацию\n",
        "cv_scores = cross_val_score(classifier_dt, X_train, y_train, cv=5, scoring='roc_auc')\n",
        "cv_score = np.mean(cv_scores)\n",
        "cv_score_std = np.std(cv_scores)\n",
        "print('CV score is {}+-{}'.format(cv_score, cv_score_std))\n",
        "\n",
        "#обучим пайплайн на всем тренировочном датасете\n",
        "classifier_dt.fit(X_train, y_train)\n",
        "y_score_dt = classifier_dt.predict_proba(X_test)[:, 1]"
      ],
      "metadata": {
        "colab": {
          "base_uri": "https://localhost:8080/"
        },
        "id": "hrxf4TWg-51g",
        "outputId": "b931b779-33a2-4a9e-ab3d-20b9a74ef6af"
      },
      "execution_count": 16,
      "outputs": [
        {
          "output_type": "stream",
          "name": "stdout",
          "text": [
            "CV score is 0.7798842276365006+-0.0036430535026412345\n"
          ]
        }
      ]
    },
    {
      "cell_type": "code",
      "source": [
        "precision_dt, recall_dt, thresholds_dt = precision_recall_curve(y_test.values, y_score_dt)\n",
        "# print(precision_dt)\n",
        "# print(recall_dt)\n",
        "# print(thresholds_dt)\n",
        "fscore_dt = (1+b**2)*(precision_dt * recall_dt) / (b**2*precision_dt + recall_dt)\n",
        "# print(fscore_dt)\n",
        "# locate the index of the largest f score\n",
        "ix_dt = np.argmax(fscore_dt)\n",
        "print('Best Threshold=%f, F-Score=%.3f, Precision=%.3f, Recall=%.3f' % (thresholds_dt[ix_dt], \n",
        "                                                                        fscore_dt[ix_dt],\n",
        "                                                                        precision_dt[ix_dt],\n",
        "                                                                        recall_dt[ix_dt]))\n",
        "\n",
        "roc_auc_dt = roc_auc_score(y_true=y_test, y_score=y_score_dt)\n",
        "log_loss_score_dt = log_loss(y_true=y_test, y_pred=y_score_dt)\n",
        "accuracy_dt = accuracy_score(y_true=y_test, y_pred=classifier_dt.predict(X_test))\n",
        "print(f'roc auc score: {roc_auc_dt}')\n",
        "print(f'log loss score: {log_loss_score_dt}')\n",
        "print(f'accuracy: {accuracy_dt}')"
      ],
      "metadata": {
        "colab": {
          "base_uri": "https://localhost:8080/"
        },
        "id": "Lkx9-emqB0jT",
        "outputId": "bf8d29e1-9abf-40f3-e055-e308a9eeaccd"
      },
      "execution_count": 17,
      "outputs": [
        {
          "output_type": "stream",
          "name": "stdout",
          "text": [
            "Best Threshold=0.419935, F-Score=0.734, Precision=0.649, Recall=0.844\n",
            "roc auc score: 0.7794357636058814\n",
            "log loss score: 0.5564948293743703\n",
            "accuracy: 0.7298285714285714\n"
          ]
        }
      ]
    },
    {
      "cell_type": "code",
      "source": [
        "font = {'size' : 15}\n",
        "\n",
        "plt.rc('font', **font)\n",
        "\n",
        "cnf_matrix_dt = confusion_matrix(y_test, y_score_dt>thresholds_dt[ix_dt])\n",
        "plt.figure(figsize=(10, 8))\n",
        "plot_cm(cnf_matrix_dt, classes=['cardio_0', 'cardio_1'],\n",
        "                      title='Confusion matrix_Decision Tree')\n",
        "plt.show()"
      ],
      "metadata": {
        "colab": {
          "base_uri": "https://localhost:8080/",
          "height": 645
        },
        "id": "QDT-OGM6Pl-v",
        "outputId": "89b797c5-8cee-43c8-8ef2-41c9f0891a36"
      },
      "execution_count": 18,
      "outputs": [
        {
          "output_type": "stream",
          "name": "stdout",
          "text": [
            "Confusion matrix, without normalization\n",
            "[[6755 1933]\n",
            " [2795 6017]]\n"
          ]
        },
        {
          "output_type": "display_data",
          "data": {
            "text/plain": [
              "<Figure size 720x576 with 2 Axes>"
            ],
            "image/png": "[encoded data removed]"
          },
          "metadata": {
            "needs_background": "light"
          }
        }
      ]
    },
    {
      "cell_type": "code",
      "source": [
        "TN_dt = cnf_matrix_dt[0][0]\n",
        "FN_dt = cnf_matrix_dt[1][0]\n",
        "TP_dt = cnf_matrix_dt[1][1]\n",
        "FP_dt = cnf_matrix_dt[0][1]\n",
        "\n",
        "TPR_dt = TP_dt/(TP_dt+FN_dt)\n",
        "FPR_dt = FP_dt/(FP_dt+TN_dt)\n",
        "TNR_dt = TN_dt/(FP_dt+TN_dt)\n",
        "TPR_dt, FPR_dt, TNR_dt"
      ],
      "metadata": {
        "colab": {
          "base_uri": "https://localhost:8080/"
        },
        "id": "kWThONHHP3fU",
        "outputId": "c73fd369-4783-44fb-e955-b79465675a9f"
      },
      "execution_count": 19,
      "outputs": [
        {
          "output_type": "execute_result",
          "data": {
            "text/plain": [
              "(0.6828188833408988, 0.22249079189686924, 0.7775092081031307)"
            ]
          },
          "metadata": {},
          "execution_count": 19
        }
      ]
    },
    {
      "cell_type": "code",
      "source": [
        "# KNN\n",
        "\n",
        "classifier_knn = Pipeline([\n",
        "    ('features',feats),\n",
        "    ('classifier', KNeighborsClassifier(n_neighbors=15, metric='manhattan')),\n",
        "])\n",
        "\n",
        "\n",
        "#запустим кросс-валидацию\n",
        "cv_scores = cross_val_score(classifier_knn, X_train, y_train, cv=10, scoring='roc_auc')\n",
        "cv_score = np.mean(cv_scores)\n",
        "cv_score_std = np.std(cv_scores)\n",
        "print('CV score is {}+-{}'.format(cv_score, cv_score_std))\n",
        "\n",
        "#обучим пайплайн на всем тренировочном датасете\n",
        "classifier_knn.fit(X_train, y_train)\n",
        "y_score_knn = classifier_knn.predict_proba(X_test)[:, 1]"
      ],
      "metadata": {
        "colab": {
          "base_uri": "https://localhost:8080/"
        },
        "id": "UlOdcqPMBsJF",
        "outputId": "76744a46-92d8-4c41-e0bf-d0c7076c48f9"
      },
      "execution_count": 20,
      "outputs": [
        {
          "output_type": "stream",
          "name": "stdout",
          "text": [
            "CV score is 0.7800922168496658+-0.006131080069584845\n"
          ]
        }
      ]
    },
    {
      "cell_type": "code",
      "source": [
        "precision_knn, recall_knn, thresholds_knn = precision_recall_curve(y_test.values, y_score_knn)\n",
        "# print(precision_knn)\n",
        "# print(recall_knn)\n",
        "# print(thresholds_knn)\n",
        "fscore_knn = (1+b**2)*(precision_knn * recall_knn) / (b**2*precision_knn + recall_knn + sys.float_info.epsilon)\n",
        "# print(fscore_knn)\n",
        "# locate the index of the largest f score\n",
        "ix_knn = np.argmax(fscore_knn)\n",
        "print('Best Threshold=%f, F-Score=%.3f, Precision=%.3f, Recall=%.3f' % (thresholds_knn[ix_knn], \n",
        "                                                                        fscore_knn[ix_knn],\n",
        "                                                                        precision_knn[ix_knn],\n",
        "                                                                        recall_knn[ix_knn]))\n",
        "\n",
        "roc_auc_knn = roc_auc_score(y_true=y_test, y_score=y_score_knn)\n",
        "log_loss_score_knn = log_loss(y_true=y_test, y_pred=y_score_knn)\n",
        "accuracy_knn = accuracy_score(y_true=y_test, y_pred=classifier_knn.predict(X_test))\n",
        "print(f'roc auc score: {roc_auc_knn}')\n",
        "print(f'log loss score: {log_loss_score_knn}')\n",
        "print(f'accuracy: {accuracy_knn}')"
      ],
      "metadata": {
        "colab": {
          "base_uri": "https://localhost:8080/"
        },
        "id": "tGTMmcUjG-fT",
        "outputId": "eadaf2cf-0861-4b18-b86f-72d1ad359de4"
      },
      "execution_count": 21,
      "outputs": [
        {
          "output_type": "stream",
          "name": "stdout",
          "text": [
            "Best Threshold=0.466667, F-Score=0.730, Precision=0.703, Recall=0.758\n",
            "roc auc score: 0.7798123049600035\n",
            "log loss score: 0.7308495941224954\n",
            "accuracy: 0.7241714285714286\n"
          ]
        }
      ]
    },
    {
      "cell_type": "code",
      "source": [
        "font = {'size' : 15}\n",
        "\n",
        "plt.rc('font', **font)\n",
        "\n",
        "cnf_matrix_knn = confusion_matrix(y_test, y_score_knn>thresholds_knn[ix_knn])\n",
        "plt.figure(figsize=(10, 8))\n",
        "plot_cm(cnf_matrix_knn, classes=['cardio_0', 'cardio_1'],\n",
        "                      title='Confusion matrix_KNN')\n",
        "plt.show()"
      ],
      "metadata": {
        "colab": {
          "base_uri": "https://localhost:8080/",
          "height": 645
        },
        "id": "n9zHl8fsH7ok",
        "outputId": "3796957e-164e-4976-d369-bdd33f7ebffe"
      },
      "execution_count": 22,
      "outputs": [
        {
          "output_type": "stream",
          "name": "stdout",
          "text": [
            "Confusion matrix, without normalization\n",
            "[[6517 2171]\n",
            " [2656 6156]]\n"
          ]
        },
        {
          "output_type": "display_data",
          "data": {
            "text/plain": [
              "<Figure size 720x576 with 2 Axes>"
            ],
            "image/png": "[encoded data removed]"
          },
          "metadata": {
            "needs_background": "light"
          }
        }
      ]
    },
    {
      "cell_type": "code",
      "source": [
        "TN_knn = cnf_matrix_knn[0][0]\n",
        "FN_knn = cnf_matrix_knn[1][0]\n",
        "TP_knn = cnf_matrix_knn[1][1]\n",
        "FP_knn = cnf_matrix_knn[0][1]\n",
        "\n",
        "TPR_knn = TP_knn/(TP_knn+FN_knn)\n",
        "FPR_knn = FP_knn/(FP_knn+TN_knn)\n",
        "TNR_knn = TN_knn/(FP_knn+TN_knn)\n",
        "TPR_knn, FPR_knn, TNR_knn"
      ],
      "metadata": {
        "colab": {
          "base_uri": "https://localhost:8080/"
        },
        "id": "QIFHf5yYpUnU",
        "outputId": "dff99816-6e7e-4622-d34a-2c5f5ef8aa2f"
      },
      "execution_count": 23,
      "outputs": [
        {
          "output_type": "execute_result",
          "data": {
            "text/plain": [
              "(0.6985928279618702, 0.24988489871086556, 0.7501151012891344)"
            ]
          },
          "metadata": {},
          "execution_count": 23
        }
      ]
    },
    {
      "cell_type": "code",
      "source": [
        "# Random Forest\n",
        "\n",
        "classifier_rf = Pipeline([\n",
        "    ('features',feats),\n",
        "    ('classifier', RandomForestClassifier(random_state=42, n_estimators=30, max_depth=5, max_features=5)),\n",
        "])\n",
        "\n",
        "\n",
        "#запустим кросс-валидацию\n",
        "cv_scores = cross_val_score(classifier_rf, X_train, y_train, cv=15, scoring='roc_auc')\n",
        "cv_score = np.mean(cv_scores)\n",
        "cv_score_std = np.std(cv_scores)\n",
        "print('CV score is {}+-{}'.format(cv_score, cv_score_std))\n",
        "\n",
        "#обучим пайплайн на всем тренировочном датасете\n",
        "classifier_rf.fit(X_train, y_train)\n",
        "y_score_rf = classifier_rf.predict_proba(X_test)[:, 1]"
      ],
      "metadata": {
        "colab": {
          "base_uri": "https://localhost:8080/"
        },
        "id": "fWyG0nc_8t1U",
        "outputId": "f4d0fb6c-90e6-43e1-ea89-587398e3d583"
      },
      "execution_count": 24,
      "outputs": [
        {
          "output_type": "stream",
          "name": "stdout",
          "text": [
            "CV score is 0.7970973553950724+-0.008971763550440114\n"
          ]
        }
      ]
    },
    {
      "cell_type": "code",
      "source": [
        "precision_rf, recall_rf, thresholds_rf = precision_recall_curve(y_test.values, y_score_rf)\n",
        "# print(precision_rf)\n",
        "# print(recall_rf)\n",
        "# print(thresholds_rf)\n",
        "fscore_rf = (1+b**2)*(precision_rf * recall_rf) / (b**2*precision_rf + recall_rf + sys.float_info.epsilon)\n",
        "# print(fscore_rf)\n",
        "# locate the index of the largest f score\n",
        "ix_rf = np.argmax(fscore_rf)\n",
        "print('Best Threshold=%f, F-Score=%.3f, Precision=%.3f, Recall=%.3f' % (thresholds_rf[ix_rf], \n",
        "                                                                        fscore_rf[ix_rf],\n",
        "                                                                        precision_rf[ix_rf],\n",
        "                                                                        recall_rf[ix_rf]))\n",
        "\n",
        "roc_auc_rf = roc_auc_score(y_true=y_test, y_score=y_score_rf)\n",
        "log_loss_score_rf = log_loss(y_true=y_test, y_pred=y_score_rf)\n",
        "accuracy_rf = accuracy_score(y_true=y_test, y_pred=classifier_rf.predict(X_test))\n",
        "print(f'roc auc score: {roc_auc_rf}')\n",
        "print(f'log loss score: {log_loss_score_rf}')\n",
        "print(f'accuracy: {accuracy_rf}')"
      ],
      "metadata": {
        "colab": {
          "base_uri": "https://localhost:8080/"
        },
        "id": "2OMm_3YxD3ae",
        "outputId": "ba8dfa9f-97ac-4931-8e24-20bfe8fbdb47"
      },
      "execution_count": 25,
      "outputs": [
        {
          "output_type": "stream",
          "name": "stdout",
          "text": [
            "Best Threshold=0.394701, F-Score=0.743, Precision=0.701, Recall=0.790\n",
            "roc auc score: 0.7974073630550672\n",
            "log loss score: 0.5495617013900382\n",
            "accuracy: 0.7324571428571428\n"
          ]
        }
      ]
    },
    {
      "cell_type": "code",
      "source": [
        "font = {'size' : 15}\n",
        "\n",
        "plt.rc('font', **font)\n",
        "\n",
        "cnf_matrix_rf = confusion_matrix(y_test, y_score_rf>thresholds_rf[ix_rf])\n",
        "plt.figure(figsize=(10, 8))\n",
        "plot_cm(cnf_matrix_rf, classes=['cardio_0', 'cardio_1'],\n",
        "                      title='Confusion matrix_Random Forest')\n",
        "plt.show()"
      ],
      "metadata": {
        "colab": {
          "base_uri": "https://localhost:8080/",
          "height": 645
        },
        "id": "7si9kSfkQS_Q",
        "outputId": "34ebbac2-2be8-4e04-d465-9109754ade0f"
      },
      "execution_count": 26,
      "outputs": [
        {
          "output_type": "stream",
          "name": "stdout",
          "text": [
            "Confusion matrix, without normalization\n",
            "[[5723 2965]\n",
            " [1854 6958]]\n"
          ]
        },
        {
          "output_type": "display_data",
          "data": {
            "text/plain": [
              "<Figure size 720x576 with 2 Axes>"
            ],
            "image/png": "[encoded data removed]"
          },
          "metadata": {
            "needs_background": "light"
          }
        }
      ]
    },
    {
      "cell_type": "code",
      "source": [
        "TN_rf = cnf_matrix_rf[0][0]\n",
        "FN_rf = cnf_matrix_rf[1][0]\n",
        "TP_rf = cnf_matrix_rf[1][1]\n",
        "FP_rf = cnf_matrix_rf[0][1]\n",
        "\n",
        "TPR_rf = TP_rf/(TP_rf+FN_rf)\n",
        "FPR_rf = FP_rf/(FP_rf+TN_rf)\n",
        "TNR_rf = TN_rf/(FP_rf+TN_rf)\n",
        "TPR_rf, FPR_rf, TNR_rf"
      ],
      "metadata": {
        "colab": {
          "base_uri": "https://localhost:8080/"
        },
        "id": "TC35EEgkQUC_",
        "outputId": "a4c46556-da8e-4205-d3dc-fa90fa27247f"
      },
      "execution_count": 27,
      "outputs": [
        {
          "output_type": "execute_result",
          "data": {
            "text/plain": [
              "(0.7896050839763958, 0.3412753222836096, 0.6587246777163904)"
            ]
          },
          "metadata": {},
          "execution_count": 27
        }
      ]
    },
    {
      "cell_type": "code",
      "source": [
        "# AdaBoost\n",
        "\n",
        "classifier_ab = Pipeline([\n",
        "    ('features',feats),\n",
        "    ('classifier', AdaBoostClassifier(random_state=42, n_estimators=30)),\n",
        "])\n",
        "\n",
        "\n",
        "#запустим кросс-валидацию\n",
        "cv_scores = cross_val_score(classifier_ab, X_train, y_train, cv=6, scoring='roc_auc')\n",
        "cv_score = np.mean(cv_scores)\n",
        "cv_score_std = np.std(cv_scores)\n",
        "print('CV score is {}+-{}'.format(cv_score, cv_score_std))\n",
        "\n",
        "#обучим пайплайн на всем тренировочном датасете\n",
        "classifier_ab.fit(X_train, y_train)\n",
        "y_score_ab = classifier_ab.predict_proba(X_test)[:, 1]"
      ],
      "metadata": {
        "id": "d0m1W7IXXWZ9",
        "colab": {
          "base_uri": "https://localhost:8080/"
        },
        "outputId": "c63cd829-36f3-42bb-c80b-a1d82dcaa47a"
      },
      "execution_count": 28,
      "outputs": [
        {
          "output_type": "stream",
          "name": "stdout",
          "text": [
            "CV score is 0.7940917920091648+-0.00693049241630287\n"
          ]
        }
      ]
    },
    {
      "cell_type": "code",
      "source": [
        "precision_ab, recall_ab, thresholds_ab = precision_recall_curve(y_test.values, y_score_ab)\n",
        "# print(precision_ab)\n",
        "# print(recall_ab)\n",
        "# print(thresholds_ab)\n",
        "fscore_ab = (1+b**2)*(precision_ab * recall_ab) / (b**2*precision_ab + recall_ab + sys.float_info.epsilon)\n",
        "# print(fscore_ab)\n",
        "# locate the index of the largest f score\n",
        "ix_ab = np.argmax(fscore_ab)\n",
        "print('Best Threshold=%f, F-Score=%.3f, Precision=%.3f, Recall=%.3f' % (thresholds_ab[ix_ab], \n",
        "                                                                        fscore_ab[ix_ab],\n",
        "                                                                        precision_ab[ix_ab],\n",
        "                                                                        recall_ab[ix_ab]))\n",
        "\n",
        "roc_auc_ab = roc_auc_score(y_true=y_test, y_score=y_score_ab)\n",
        "log_loss_score_ab = log_loss(y_true=y_test, y_pred=y_score_ab)\n",
        "accuracy_ab = accuracy_score(y_true=y_test, y_pred=classifier_ab.predict(X_test))\n",
        "print(f'roc auc score: {roc_auc_ab}')\n",
        "print(f'log loss score: {log_loss_score_ab}')\n",
        "print(f'accuracy: {accuracy_ab}')"
      ],
      "metadata": {
        "colab": {
          "base_uri": "https://localhost:8080/"
        },
        "id": "Da14G_wtC6o1",
        "outputId": "4e9cba9c-a6f5-4a23-c6ff-fd1b00af24cd"
      },
      "execution_count": 29,
      "outputs": [
        {
          "output_type": "stream",
          "name": "stdout",
          "text": [
            "Best Threshold=0.495159, F-Score=0.742, Precision=0.682, Recall=0.814\n",
            "roc auc score: 0.7962580416772207\n",
            "log loss score: 0.6827416212465114\n",
            "accuracy: 0.7328571428571429\n"
          ]
        }
      ]
    },
    {
      "cell_type": "code",
      "source": [
        "font = {'size' : 15}\n",
        "\n",
        "plt.rc('font', **font)\n",
        "\n",
        "cnf_matrix_ab = confusion_matrix(y_test, y_score_ab>thresholds_ab[ix_ab])\n",
        "plt.figure(figsize=(10, 8))\n",
        "plot_cm(cnf_matrix_ab, classes=['cardio_0', 'cardio_1'],\n",
        "                      title='Confusion matrix_AdaBoost')\n",
        "plt.show()"
      ],
      "metadata": {
        "colab": {
          "base_uri": "https://localhost:8080/",
          "height": 645
        },
        "id": "bIJmAE88Q2vQ",
        "outputId": "9cb89846-1a51-4ff8-d320-aca4581ffcd3"
      },
      "execution_count": 30,
      "outputs": [
        {
          "output_type": "stream",
          "name": "stdout",
          "text": [
            "Confusion matrix, without normalization\n",
            "[[5347 3341]\n",
            " [1641 7171]]\n"
          ]
        },
        {
          "output_type": "display_data",
          "data": {
            "text/plain": [
              "<Figure size 720x576 with 2 Axes>"
            ],
            "image/png": "[encoded data removed]"
          },
          "metadata": {
            "needs_background": "light"
          }
        }
      ]
    },
    {
      "cell_type": "code",
      "source": [
        "TN_ab = cnf_matrix_ab[0][0]\n",
        "FN_ab = cnf_matrix_ab[1][0]\n",
        "TP_ab = cnf_matrix_ab[1][1]\n",
        "FP_ab = cnf_matrix_ab[0][1]\n",
        "\n",
        "TPR_ab = TP_ab/(TP_ab+FN_ab)\n",
        "FPR_ab = FP_ab/(FP_ab+TN_ab)\n",
        "TNR_ab = TN_ab/(FP_ab+TN_ab)\n",
        "TPR_ab, FPR_ab, TNR_ab"
      ],
      "metadata": {
        "colab": {
          "base_uri": "https://localhost:8080/"
        },
        "id": "PnJeRLVAQzmK",
        "outputId": "120ea25a-4496-41cd-878c-16fa3172a8f4"
      },
      "execution_count": 31,
      "outputs": [
        {
          "output_type": "execute_result",
          "data": {
            "text/plain": [
              "(0.8137766681797549, 0.3845534069981584, 0.6154465930018416)"
            ]
          },
          "metadata": {},
          "execution_count": 31
        }
      ]
    },
    {
      "cell_type": "code",
      "source": [
        "# Gradient Boosting\n",
        "\n",
        "classifier_gb = Pipeline([\n",
        "    ('features',feats),\n",
        "    ('classifier', GradientBoostingClassifier(random_state=42, n_estimators=30, max_depth=3)),\n",
        "])\n",
        "\n",
        "\n",
        "#запустим кросс-валидацию\n",
        "cv_scores = cross_val_score(classifier_gb, X_train, y_train, cv=10, scoring='roc_auc')\n",
        "cv_score = np.mean(cv_scores)\n",
        "cv_score_std = np.std(cv_scores)\n",
        "print('CV score is {}+-{}'.format(cv_score, cv_score_std))\n",
        "\n",
        "#обучим пайплайн на всем тренировочном датасете\n",
        "classifier_gb.fit(X_train, y_train)\n",
        "y_score_gb = classifier_gb.predict_proba(X_test)[:, 1]"
      ],
      "metadata": {
        "colab": {
          "base_uri": "https://localhost:8080/"
        },
        "id": "ItDI13yA_0Yg",
        "outputId": "4518a971-a853-4b52-ed50-e24083c06374"
      },
      "execution_count": 32,
      "outputs": [
        {
          "output_type": "stream",
          "name": "stdout",
          "text": [
            "CV score is 0.7993126909919063+-0.006536611423254695\n"
          ]
        }
      ]
    },
    {
      "cell_type": "code",
      "source": [
        "precision_gb, recall_gb, thresholds_gb = precision_recall_curve(y_test.values, y_score_gb)\n",
        "# print(precision_gb)\n",
        "# print(recall_gb)\n",
        "# print(thresholds_gb)\n",
        "fscore_gb = (1+b**2)*(precision_gb * recall_gb) / (b**2*precision_gb + recall_gb + sys.float_info.epsilon)\n",
        "# print(fscore_gb)\n",
        "# locate the index of the largest f score\n",
        "ix_gb = np.argmax(fscore_gb)\n",
        "print('Best Threshold=%f, F-Score=%.3f, Precision=%.3f, Recall=%.3f' % (thresholds_gb[ix_gb], \n",
        "                                                                        fscore_gb[ix_gb],\n",
        "                                                                        precision_gb[ix_gb],\n",
        "                                                                        recall_gb[ix_gb]))\n",
        "\n",
        "roc_auc_gb = roc_auc_score(y_true=y_test, y_score=y_score_gb)\n",
        "log_loss_score_gb = log_loss(y_true=y_test, y_pred=y_score_gb)\n",
        "accuracy_gb = accuracy_score(y_true=y_test, y_pred=classifier_gb.predict(X_test))\n",
        "print(f'roc auc score: {roc_auc_gb}')\n",
        "print(f'log loss score: {log_loss_score_gb}')\n",
        "print(f'accuracy: {accuracy_gb}')"
      ],
      "metadata": {
        "colab": {
          "base_uri": "https://localhost:8080/"
        },
        "id": "l-m3v0DlE2bb",
        "outputId": "ab2a0665-d66e-4b4d-94ba-ca8514873e89"
      },
      "execution_count": 33,
      "outputs": [
        {
          "output_type": "stream",
          "name": "stdout",
          "text": [
            "Best Threshold=0.403103, F-Score=0.743, Precision=0.708, Recall=0.781\n",
            "roc auc score: 0.7997188325772071\n",
            "log loss score: 0.545563158232193\n",
            "accuracy: 0.7359428571428571\n"
          ]
        }
      ]
    },
    {
      "cell_type": "code",
      "source": [
        "font = {'size' : 15}\n",
        "\n",
        "plt.rc('font', **font)\n",
        "\n",
        "cnf_matrix_gb = confusion_matrix(y_test, y_score_gb>thresholds_gb[ix_gb])\n",
        "plt.figure(figsize=(10, 8))\n",
        "plot_cm(cnf_matrix_gb, classes=['cardio_0', 'cardio_1'],\n",
        "                      title='Confusion matrix_Gradient Boosting')\n",
        "plt.show()"
      ],
      "metadata": {
        "colab": {
          "base_uri": "https://localhost:8080/",
          "height": 645
        },
        "id": "eQMRCqFxQ4SS",
        "outputId": "569e92c7-c6e7-4ea2-a142-7955872943d1"
      },
      "execution_count": 34,
      "outputs": [
        {
          "output_type": "stream",
          "name": "stdout",
          "text": [
            "Confusion matrix, without normalization\n",
            "[[5866 2822]\n",
            " [1954 6858]]\n"
          ]
        },
        {
          "output_type": "display_data",
          "data": {
            "text/plain": [
              "<Figure size 720x576 with 2 Axes>"
            ],
            "image/png": "[encoded data removed]"
          },
          "metadata": {
            "needs_background": "light"
          }
        }
      ]
    },
    {
      "cell_type": "code",
      "source": [
        "TN_gb = cnf_matrix_gb[0][0]\n",
        "FN_gb = cnf_matrix_gb[1][0]\n",
        "TP_gb = cnf_matrix_gb[1][1]\n",
        "FP_gb = cnf_matrix_gb[0][1]\n",
        "\n",
        "TPR_gb = TP_gb/(TP_gb+FN_gb)\n",
        "FPR_gb = FP_gb/(FP_gb+TN_gb)\n",
        "TNR_gb = TN_gb/(FP_gb+TN_gb)\n",
        "TPR_gb, FPR_gb, TNR_gb"
      ],
      "metadata": {
        "colab": {
          "base_uri": "https://localhost:8080/"
        },
        "id": "nvcmHMvNRwuH",
        "outputId": "0ffd680e-39c4-4d74-caef-c0a98bb9a923"
      },
      "execution_count": 35,
      "outputs": [
        {
          "output_type": "execute_result",
          "data": {
            "text/plain": [
              "(0.7782569223785747, 0.3248158379373849, 0.6751841620626151)"
            ]
          },
          "metadata": {},
          "execution_count": 35
        }
      ]
    },
    {
      "cell_type": "code",
      "source": [
        "# XGB\n",
        "\n",
        "classifier_xgb = Pipeline([\n",
        "    ('features',feats),\n",
        "    ('classifier', XGBClassifier(random_state=42, eta=0.1, max_depth=4)),\n",
        "])\n",
        "# max_depth=3, eta=0.05, learning_rate=0.001, n_estimators=150\n",
        "\n",
        "#запустим кросс-валидацию\n",
        "cv_scores = cross_val_score(classifier_xgb, X_train, y_train, cv=10, scoring='roc_auc')\n",
        "cv_score = np.mean(cv_scores)\n",
        "cv_score_std = np.std(cv_scores)\n",
        "print('CV score is {}+-{}'.format(cv_score, cv_score_std))\n",
        "\n",
        "#обучим пайплайн на всем тренировочном датасете\n",
        "classifier_xgb.fit(X_train, y_train)\n",
        "y_score_xgb = classifier_xgb.predict_proba(X_test)[:, 1]"
      ],
      "metadata": {
        "colab": {
          "base_uri": "https://localhost:8080/"
        },
        "id": "5YQoqR8R9pvC",
        "outputId": "8b21986d-53c1-4d97-f99d-f65cc8858773"
      },
      "execution_count": 36,
      "outputs": [
        {
          "output_type": "stream",
          "name": "stdout",
          "text": [
            "CV score is 0.8027718389761193+-0.006700142405060561\n"
          ]
        }
      ]
    },
    {
      "cell_type": "code",
      "source": [
        "precision_xgb, recall_xgb, thresholds_xgb = precision_recall_curve(y_test.values, y_score_xgb)\n",
        "# print(precision_xgb)\n",
        "# print(recall_xgb)\n",
        "# print(thresholds_xgb)\n",
        "fscore_xgb = (1+b**2)*(precision_xgb * recall_xgb) / (b**2*precision_xgb + recall_xgb)\n",
        "# print(fscore_xgb)\n",
        "# locate the index of the largest f score\n",
        "ix_xgb = np.argmax(fscore_xgb)\n",
        "print('Best Threshold=%f, F-Score=%.3f, Precision=%.3f, Recall=%.3f' % (thresholds_xgb[ix_xgb], \n",
        "                                                                        fscore_xgb[ix_xgb],\n",
        "                                                                        precision_xgb[ix_xgb],\n",
        "                                                                        recall_xgb[ix_xgb]))\n",
        "\n",
        "roc_auc_xgb = roc_auc_score(y_true=y_test, y_score=y_score_xgb)\n",
        "log_loss_score_xgb = log_loss(y_true=y_test, y_pred=y_score_xgb)\n",
        "accuracy_xgb = accuracy_score(y_true=y_test, y_pred=classifier_xgb.predict(X_test))\n",
        "print(f'roc auc score: {roc_auc_xgb}')\n",
        "print(f'log loss score: {log_loss_score_xgb}')\n",
        "print(f'accuracy: {accuracy_xgb}')"
      ],
      "metadata": {
        "colab": {
          "base_uri": "https://localhost:8080/"
        },
        "id": "5tRfDQBrFbqd",
        "outputId": "582614be-7699-4a3a-94f7-7b33b9fee473"
      },
      "execution_count": 37,
      "outputs": [
        {
          "output_type": "stream",
          "name": "stdout",
          "text": [
            "Best Threshold=0.385136, F-Score=0.747, Precision=0.697, Recall=0.803\n",
            "roc auc score: 0.8033832124743674\n",
            "log loss score: 0.5384035863339669\n",
            "accuracy: 0.7378857142857143\n"
          ]
        }
      ]
    },
    {
      "cell_type": "code",
      "source": [
        "font = {'size' : 15}\n",
        "\n",
        "plt.rc('font', **font)\n",
        "\n",
        "cnf_matrix_xgb = confusion_matrix(y_test, y_score_xgb>thresholds_xgb[ix_xgb])\n",
        "plt.figure(figsize=(10, 8))\n",
        "plot_cm(cnf_matrix_xgb, classes=['cardio_0', 'cardio_1'],\n",
        "                      title='Confusion matrix_XGB')\n",
        "plt.show()"
      ],
      "metadata": {
        "colab": {
          "base_uri": "https://localhost:8080/",
          "height": 645
        },
        "id": "xNM1TUPwQ6er",
        "outputId": "2a6c635a-d428-4cb9-f1b4-358568cb6157"
      },
      "execution_count": 38,
      "outputs": [
        {
          "output_type": "stream",
          "name": "stdout",
          "text": [
            "Confusion matrix, without normalization\n",
            "[[5616 3072]\n",
            " [1735 7077]]\n"
          ]
        },
        {
          "output_type": "display_data",
          "data": {
            "text/plain": [
              "<Figure size 720x576 with 2 Axes>"
            ],
            "image/png": "[encoded data removed]"
          },
          "metadata": {
            "needs_background": "light"
          }
        }
      ]
    },
    {
      "cell_type": "code",
      "source": [
        "TN_xgb = cnf_matrix_xgb[0][0]\n",
        "FN_xgb = cnf_matrix_xgb[1][0]\n",
        "TP_xgb = cnf_matrix_xgb[1][1]\n",
        "FP_xgb = cnf_matrix_xgb[0][1]\n",
        "\n",
        "TPR_xgb = TP_xgb/(TP_xgb+FN_xgb)\n",
        "FPR_xgb = FP_xgb/(FP_xgb+TN_xgb)\n",
        "TNR_xgb = TN_xgb/(FP_xgb+TN_xgb)\n",
        "TPR_xgb, FPR_xgb, TNR_xgb"
      ],
      "metadata": {
        "colab": {
          "base_uri": "https://localhost:8080/"
        },
        "id": "5MYZ7ZQdRysU",
        "outputId": "0773a595-8ba9-475f-ea4f-48dae49bc6ce"
      },
      "execution_count": 39,
      "outputs": [
        {
          "output_type": "execute_result",
          "data": {
            "text/plain": [
              "(0.803109396277803, 0.35359116022099446, 0.6464088397790055)"
            ]
          },
          "metadata": {},
          "execution_count": 39
        }
      ]
    },
    {
      "cell_type": "code",
      "source": [
        "# Light GBM\n",
        "\n",
        "classifier_lgbm = Pipeline([\n",
        "    ('features',feats),\n",
        "    ('classifier', LGBMClassifier(random_state=42, max_depth=5, learning_rate=0.05, n_estimators=200)),\n",
        "])\n",
        "\n",
        "\n",
        "#запустим кросс-валидацию\n",
        "cv_scores = cross_val_score(classifier_lgbm, X_train, y_train, cv=10, scoring='roc_auc')\n",
        "cv_score = np.mean(cv_scores)\n",
        "cv_score_std = np.std(cv_scores)\n",
        "print('CV score is {}+-{}'.format(cv_score, cv_score_std))\n",
        "\n",
        "#обучим пайплайн на всем тренировочном датасете\n",
        "classifier_lgbm.fit(X_train, y_train)\n",
        "y_score_lgbm = classifier_lgbm.predict_proba(X_test)[:, 1]"
      ],
      "metadata": {
        "colab": {
          "base_uri": "https://localhost:8080/"
        },
        "id": "YNcQaVJd-Dcv",
        "outputId": "740bf967-c8ee-481d-f4e5-6a18c946044a"
      },
      "execution_count": 40,
      "outputs": [
        {
          "output_type": "stream",
          "name": "stdout",
          "text": [
            "CV score is 0.8027192233466067+-0.006297487444856684\n"
          ]
        }
      ]
    },
    {
      "cell_type": "code",
      "source": [
        "precision_lgbm, recall_lgbm, thresholds_lgbm = precision_recall_curve(y_test.values, y_score_lgbm)\n",
        "# print(precision_lgbm)\n",
        "# print(recall_lgbm)\n",
        "# print(thresholds_lgbm)\n",
        "fscore_lgbm = (1+b**2)*(precision_lgbm * recall_lgbm) / (b**2*precision_lgbm + recall_lgbm + sys.float_info.epsilon)\n",
        "# print(fscore_lgbm)\n",
        "# locate the index of the largest f score\n",
        "ix_lgbm = np.argmax(fscore_lgbm)\n",
        "print('Best Threshold=%f, F-Score=%.3f, Precision=%.3f, Recall=%.3f' % (thresholds_lgbm[ix_lgbm], \n",
        "                                                                        fscore_lgbm[ix_lgbm],\n",
        "                                                                        precision_lgbm[ix_lgbm],\n",
        "                                                                        recall_lgbm[ix_lgbm]))\n",
        "\n",
        "roc_auc_lgbm = roc_auc_score(y_true=y_test, y_score=y_score_lgbm)\n",
        "log_loss_score_lgbm = log_loss(y_true=y_test, y_pred=y_score_lgbm)\n",
        "accuracy_lgbm = accuracy_score(y_true=y_test, y_pred=classifier_lgbm.predict(X_test))\n",
        "print(f'roc auc score: {roc_auc_lgbm}')\n",
        "print(f'log loss score: {log_loss_score_lgbm}')\n",
        "print(f'accuracy: {accuracy_lgbm}')"
      ],
      "metadata": {
        "colab": {
          "base_uri": "https://localhost:8080/"
        },
        "id": "5VgVewQaFqKf",
        "outputId": "fa805c06-376f-4820-d7a6-3427992a996e"
      },
      "execution_count": 41,
      "outputs": [
        {
          "output_type": "stream",
          "name": "stdout",
          "text": [
            "Best Threshold=0.396551, F-Score=0.746, Precision=0.706, Recall=0.790\n",
            "roc auc score: 0.8027004353367958\n",
            "log loss score: 0.5393542322239654\n",
            "accuracy: 0.7377714285714285\n"
          ]
        }
      ]
    },
    {
      "cell_type": "code",
      "source": [
        "font = {'size' : 15}\n",
        "\n",
        "plt.rc('font', **font)\n",
        "\n",
        "cnf_matrix_lgbm = confusion_matrix(y_test, y_score_lgbm>thresholds_lgbm[ix_lgbm])\n",
        "plt.figure(figsize=(10, 8))\n",
        "plot_cm(cnf_matrix_lgbm, classes=['cardio_0', 'cardio_1'],\n",
        "                      title='Confusion matrix_Light GBM')\n",
        "plt.show()"
      ],
      "metadata": {
        "colab": {
          "base_uri": "https://localhost:8080/",
          "height": 645
        },
        "id": "GWwWU223Ea4E",
        "outputId": "f020ed2b-72b2-4ba4-d5b1-f67466af9319"
      },
      "execution_count": 42,
      "outputs": [
        {
          "output_type": "stream",
          "name": "stdout",
          "text": [
            "Confusion matrix, without normalization\n",
            "[[5798 2890]\n",
            " [1856 6956]]\n"
          ]
        },
        {
          "output_type": "display_data",
          "data": {
            "text/plain": [
              "<Figure size 720x576 with 2 Axes>"
            ],
            "image/png": "[encoded data removed]"
          },
          "metadata": {
            "needs_background": "light"
          }
        }
      ]
    },
    {
      "cell_type": "code",
      "source": [
        "TN_lgbm = cnf_matrix_lgbm[0][0]\n",
        "FN_lgbm = cnf_matrix_lgbm[1][0]\n",
        "TP_lgbm = cnf_matrix_lgbm[1][1]\n",
        "FP_lgbm = cnf_matrix_lgbm[0][1]\n",
        "\n",
        "TPR_lgbm = TP_lgbm/(TP_lgbm+FN_lgbm)\n",
        "FPR_lgbm = FP_lgbm/(FP_lgbm+TN_lgbm)\n",
        "TNR_lgbm = TN_lgbm/(FP_lgbm+TN_lgbm)\n",
        "TPR_lgbm, FPR_lgbm, TNR_lgbm"
      ],
      "metadata": {
        "colab": {
          "base_uri": "https://localhost:8080/"
        },
        "id": "9k52eWTPR0z5",
        "outputId": "f544fd02-5ee0-4f48-9181-4185e46219f4"
      },
      "execution_count": 43,
      "outputs": [
        {
          "output_type": "execute_result",
          "data": {
            "text/plain": [
              "(0.7893781207444394, 0.3326427255985267, 0.6673572744014733)"
            ]
          },
          "metadata": {},
          "execution_count": 43
        }
      ]
    },
    {
      "cell_type": "code",
      "source": [
        "# CatBoost\n",
        "\n",
        "classifier_cb = Pipeline([\n",
        "    ('features',feats),\n",
        "    ('classifier', CatBoostClassifier(random_state=42, verbose=0, iterations=50, learning_rate=0.01, depth=2)),\n",
        "])\n",
        "\n",
        "\n",
        "#запустим кросс-валидацию\n",
        "cv_scores = cross_val_score(classifier_cb, X_train, y_train, cv=10, scoring='roc_auc')\n",
        "cv_score = np.mean(cv_scores)\n",
        "cv_score_std = np.std(cv_scores)\n",
        "print('CV score is {}+-{}'.format(cv_score, cv_score_std))\n",
        "\n",
        "#обучим пайплайн на всем тренировочном датасете\n",
        "classifier_cb.fit(X_train, y_train)\n",
        "y_score_cb = classifier_cb.predict_proba(X_test)[:, 1]"
      ],
      "metadata": {
        "colab": {
          "base_uri": "https://localhost:8080/"
        },
        "id": "s2zzSRDOvxDQ",
        "outputId": "0099bbd3-e79b-4949-9670-720b925ddf14"
      },
      "execution_count": 44,
      "outputs": [
        {
          "output_type": "stream",
          "name": "stdout",
          "text": [
            "CV score is 0.782540925417395+-0.007593443189901855\n"
          ]
        }
      ]
    },
    {
      "cell_type": "code",
      "source": [
        "precision_cb, recall_cb, thresholds_cb = precision_recall_curve(y_test.values, y_score_cb)\n",
        "# print(precision_cb)\n",
        "# print(recall_cb)\n",
        "# print(thresholds_cb)\n",
        "fscore_cb = (1+b**2)*(precision_cb * recall_cb) / (b**2*precision_cb + recall_cb + sys.float_info.epsilon)\n",
        "# print(fscore_cb)\n",
        "# locate the index of the largest f score\n",
        "ix_cb = np.argmax(fscore_cb)\n",
        "print('Best Threshold=%f, F-Score=%.3f, Precision=%.3f, Recall=%.3f' % (thresholds_cb[ix_cb], \n",
        "                                                                        fscore_cb[ix_cb],\n",
        "                                                                        precision_cb[ix_cb],\n",
        "                                                                        recall_cb[ix_cb]))\n",
        "\n",
        "roc_auc_cb = roc_auc_score(y_true=y_test, y_score=y_score_cb)\n",
        "log_loss_score_cb = log_loss(y_true=y_test, y_pred=y_score_cb)\n",
        "accuracy_cb = accuracy_score(y_true=y_test, y_pred=classifier_cb.predict(X_test))\n",
        "print(f'roc auc score: {roc_auc_cb}')\n",
        "print(f'log loss score: {log_loss_score_cb}')\n",
        "print(f'accuracy: {accuracy_cb}')"
      ],
      "metadata": {
        "colab": {
          "base_uri": "https://localhost:8080/"
        },
        "id": "7QZ7vFo-wsng",
        "outputId": "59e8b5ab-b191-41b8-8711-0ff2e95c97d3"
      },
      "execution_count": 45,
      "outputs": [
        {
          "output_type": "stream",
          "name": "stdout",
          "text": [
            "Best Threshold=0.455449, F-Score=0.737, Precision=0.684, Recall=0.799\n",
            "roc auc score: 0.7823144452797082\n",
            "log loss score: 0.6211954347008072\n",
            "accuracy: 0.7269714285714286\n"
          ]
        }
      ]
    },
    {
      "cell_type": "code",
      "source": [
        "font = {'size' : 15}\n",
        "\n",
        "plt.rc('font', **font)\n",
        "\n",
        "cnf_matrix_cb = confusion_matrix(y_test, y_score_cb>thresholds_cb[ix_cb])\n",
        "plt.figure(figsize=(10, 8))\n",
        "plot_cm(cnf_matrix_cb, classes=['cardio_0', 'cardio_1'],\n",
        "                      title='Confusion matrix_CatBoost Classifier')\n",
        "plt.show()"
      ],
      "metadata": {
        "colab": {
          "base_uri": "https://localhost:8080/",
          "height": 645
        },
        "id": "G6QfgNAMwggi",
        "outputId": "9fa3fe14-d0af-424c-a2a9-52566a2983f6"
      },
      "execution_count": 46,
      "outputs": [
        {
          "output_type": "stream",
          "name": "stdout",
          "text": [
            "Confusion matrix, without normalization\n",
            "[[6710 1978]\n",
            " [2768 6044]]\n"
          ]
        },
        {
          "output_type": "display_data",
          "data": {
            "text/plain": [
              "<Figure size 720x576 with 2 Axes>"
            ],
            "image/png": "[encoded data removed]"
          },
          "metadata": {
            "needs_background": "light"
          }
        }
      ]
    },
    {
      "cell_type": "code",
      "source": [
        "TN_cb = cnf_matrix_cb[0][0]\n",
        "FN_cb = cnf_matrix_cb[1][0]\n",
        "TP_cb = cnf_matrix_cb[1][1]\n",
        "FP_cb = cnf_matrix_cb[0][1]\n",
        "\n",
        "TPR_cb = TP_cb/(TP_cb+FN_cb)\n",
        "FPR_cb = FP_cb/(FP_cb+TN_cb)\n",
        "TNR_cb = TN_cb/(FP_cb+TN_cb)\n",
        "TPR_cb, FPR_cb, TNR_cb"
      ],
      "metadata": {
        "colab": {
          "base_uri": "https://localhost:8080/"
        },
        "id": "VHtxC8kwxTkX",
        "outputId": "62844b75-f411-4446-bbb2-33d970d76d5b"
      },
      "execution_count": 47,
      "outputs": [
        {
          "output_type": "execute_result",
          "data": {
            "text/plain": [
              "(0.6858828869723105, 0.22767034990791896, 0.772329650092081)"
            ]
          },
          "metadata": {},
          "execution_count": 47
        }
      ]
    },
    {
      "cell_type": "code",
      "source": [
        "sns.set(font_scale=1.5)\n",
        "sns.set_color_codes(\"muted\")\n",
        "\n",
        "plt.figure(figsize=(10, 8))\n",
        "fpr_lr, tpr_lr, thresholds_ = roc_curve(y_test, y_score_lr, pos_label=1)\n",
        "fpr_dt, tpr_dt, thresholds_ = roc_curve(y_test, y_score_dt, pos_label=1)\n",
        "fpr_knn, tpr_knn, thresholds_ = roc_curve(y_test, y_score_knn, pos_label=1)\n",
        "fpr_rf, tpr_rf, thresholds_ = roc_curve(y_test, y_score_rf, pos_label=1)\n",
        "fpr_ab, tpr_ab, thresholds_ = roc_curve(y_test, y_score_ab, pos_label=1)\n",
        "fpr_gb, tpr_gb, thresholds_ = roc_curve(y_test, y_score_gb, pos_label=1)\n",
        "fpr_xgb, tpr_xgb, thresholds_ = roc_curve(y_test, y_score_xgb, pos_label=1)\n",
        "fpr_lgbm, tpr_lgbm, thresholds_ = roc_curve(y_test, y_score_lgbm, pos_label=1)\n",
        "fpr_cb, tpr_cb, thresholds_ = roc_curve(y_test, y_score_cb, pos_label=1)\n",
        "\n",
        "lw = 2\n",
        "plt.plot(fpr_lr, tpr_lr, lw=lw, label='ROC curve_lr')\n",
        "plt.plot(fpr_dt, tpr_dt, lw=lw, label='ROC curve_dt')\n",
        "plt.plot(fpr_knn, tpr_knn, lw=lw, label='ROC curve_knn')\n",
        "plt.plot(fpr_rf, tpr_rf, lw=lw, label='ROC curve_rf')\n",
        "plt.plot(fpr_ab, tpr_ab, lw=lw, label='ROC curve_ab')\n",
        "plt.plot(fpr_gb, tpr_gb, lw=lw, label='ROC curve_gb')\n",
        "plt.plot(fpr_xgb, tpr_xgb, lw=lw, label='ROC curve_xgb')\n",
        "plt.plot(fpr_lgbm, tpr_lgbm, lw=lw, label='ROC curve_lgbm')\n",
        "plt.plot(fpr_cb, tpr_cb, lw=lw, label='ROC curve_cb')\n",
        "plt.plot([0, 1], [0, 1])\n",
        "plt.xlim([0.0, 1.0])\n",
        "plt.ylim([0.0, 1.05])\n",
        "plt.xlabel('False Positive Rate')\n",
        "plt.ylabel('True Positive Rate')\n",
        "plt.title('ROC curve')\n",
        "plt.legend()\n",
        "plt.savefig(\"ROC.png\")\n",
        "plt.show()"
      ],
      "metadata": {
        "colab": {
          "base_uri": "https://localhost:8080/",
          "height": 535
        },
        "id": "mutYdscSQQ4g",
        "outputId": "0010672f-106c-4be8-9fc6-9fbd335af6e8"
      },
      "execution_count": 48,
      "outputs": [
        {
          "output_type": "display_data",
          "data": {
            "text/plain": [
              "<Figure size 720x576 with 1 Axes>"
            ],
            "image/png": "[encoded data removed]"
          },
          "metadata": {}
        }
      ]
    },
    {
      "cell_type": "code",
      "source": [
        "metrics = {'Model': ['Logistic Regression', \n",
        "                     'Decision Tree', \n",
        "                     'KNN', \n",
        "                     'Random Forest', \n",
        "                     'AdaBoost', \n",
        "                     'Gradient Boosting', \n",
        "                     'XGB', \n",
        "                     'Light GBM', \n",
        "                     'CatBoost'],\n",
        "           'Threshold': [thresholds_lr[ix_lr], \n",
        "                         thresholds_dt[ix_dt], \n",
        "                         thresholds_knn[ix_knn],\n",
        "                         thresholds_rf[ix_rf],\n",
        "                         thresholds_ab[ix_ab],\n",
        "                         thresholds_gb[ix_gb],\n",
        "                         thresholds_xgb[ix_xgb], \n",
        "                         thresholds_lgbm[ix_lgbm],\n",
        "                         thresholds_cb[ix_cb]], \n",
        "            'F_score': [fscore_lr[ix_lr],\n",
        "                        fscore_dt[ix_dt],\n",
        "                        fscore_knn[ix_knn],\n",
        "                        fscore_rf[ix_rf],\n",
        "                        fscore_ab[ix_ab],\n",
        "                        fscore_gb[ix_gb],\n",
        "                        fscore_xgb[ix_xgb],\n",
        "                        fscore_lgbm[ix_lgbm],\n",
        "                        fscore_cb[ix_cb]],\n",
        "            'Precision': [precision_lr[ix_lr],\n",
        "                          precision_dt[ix_dt],\n",
        "                          precision_knn[ix_knn],\n",
        "                          precision_rf[ix_rf],\n",
        "                          precision_ab[ix_ab],\n",
        "                          precision_gb[ix_gb],\n",
        "                          precision_xgb[ix_xgb],\n",
        "                          precision_lgbm[ix_lgbm],\n",
        "                          precision_cb[ix_cb]],\n",
        "            'Recall': [recall_lr[ix_lr],\n",
        "                       recall_dt[ix_dt],\n",
        "                       recall_knn[ix_knn],\n",
        "                       recall_rf[ix_rf],\n",
        "                       recall_ab[ix_ab],\n",
        "                       recall_gb[ix_gb],\n",
        "                       recall_xgb[ix_xgb],\n",
        "                       recall_lgbm[ix_lgbm],\n",
        "                       recall_cb[ix_cb]],\n",
        "           'Accuracy': [accuracy_lr, \n",
        "                        accuracy_dt,\n",
        "                        accuracy_knn, \n",
        "                        accuracy_rf, \n",
        "                        accuracy_ab, \n",
        "                        accuracy_gb, \n",
        "                        accuracy_xgb, \n",
        "                        accuracy_lgbm,\n",
        "                        accuracy_cb],\n",
        "           'ROC_AUC': [roc_auc_lr, \n",
        "                       roc_auc_dt,\n",
        "                       roc_auc_knn, \n",
        "                       roc_auc_rf, \n",
        "                       roc_auc_ab, \n",
        "                       roc_auc_gb, \n",
        "                       roc_auc_xgb, \n",
        "                       roc_auc_lgbm,\n",
        "                       roc_auc_cb],\n",
        "           'Log_loss_score': [log_loss_score_lr, \n",
        "                              log_loss_score_dt,\n",
        "                              log_loss_score_knn, \n",
        "                              log_loss_score_rf, \n",
        "                              log_loss_score_ab, \n",
        "                              log_loss_score_gb, \n",
        "                              log_loss_score_xgb,\n",
        "                              log_loss_score_lgbm,\n",
        "                              log_loss_score_cb],\n",
        "           'False Positive Rate': [FPR_lr, FPR_dt, FPR_knn, FPR_rf, FPR_ab, FPR_gb, FPR_xgb, FPR_lgbm, FPR_cb],\n",
        "           'True Negative Rate': [TNR_lr, TNR_dt, TNR_knn, TNR_rf, TNR_ab, TNR_gb, TNR_xgb, TNR_lgbm, TNR_cb]}\n",
        "\n",
        "result = pd.DataFrame(metrics)\n",
        "result"
      ],
      "metadata": {
        "colab": {
          "base_uri": "https://localhost:8080/",
          "height": 331
        },
        "id": "JVvT9wXsKymp",
        "outputId": "1c24f214-036a-41e8-a2ac-108f0337b4f0"
      },
      "execution_count": 49,
      "outputs": [
        {
          "output_type": "execute_result",
          "data": {
            "text/plain": [
              "                 Model  Threshold   F_score  Precision    Recall  Accuracy  \\\n",
              "0  Logistic Regression   0.419743  0.740753   0.702904  0.782910  0.733714   \n",
              "1        Decision Tree   0.419935  0.734100   0.649411  0.844190  0.729829   \n",
              "2                  KNN   0.466667  0.729805   0.703485  0.758171  0.724171   \n",
              "3        Random Forest   0.394701  0.743077   0.701279  0.790172  0.732457   \n",
              "4             AdaBoost   0.495159  0.742446   0.682294  0.814231  0.732857   \n",
              "5    Gradient Boosting   0.403103  0.742700   0.708183  0.780754  0.735943   \n",
              "6                  XGB   0.385136  0.746546   0.697340  0.803223  0.737886   \n",
              "7            Light GBM   0.396551  0.745794   0.706497  0.789719  0.737771   \n",
              "8             CatBoost   0.455449  0.736914   0.683929  0.798797  0.726971   \n",
              "\n",
              "    ROC_AUC  Log_loss_score  False Positive Rate  True Negative Rate  \n",
              "0  0.794522        0.557196             0.335635            0.664365  \n",
              "1  0.779436        0.556495             0.222491            0.777509  \n",
              "2  0.779812        0.730850             0.249885            0.750115  \n",
              "3  0.797407        0.549562             0.341275            0.658725  \n",
              "4  0.796258        0.682742             0.384553            0.615447  \n",
              "5  0.799719        0.545563             0.324816            0.675184  \n",
              "6  0.803383        0.538404             0.353591            0.646409  \n",
              "7  0.802700        0.539354             0.332643            0.667357  \n",
              "8  0.782314        0.621195             0.227670            0.772330  "
            ],
            "text/html": [
              "\n",
              "  <div id=\"df-1c2e3414-511d-42af-a5e3-a8533c595f4c\">\n",
              "    <div class=\"colab-df-container\">\n",
              "      <div>\n",
              "<style scoped>\n",
              "    .dataframe tbody tr th:only-of-type {\n",
              "        vertical-align: middle;\n",
              "    }\n",
              "\n",
              "    .dataframe tbody tr th {\n",
              "        vertical-align: top;\n",
              "    }\n",
              "\n",
              "    .dataframe thead th {\n",
              "        text-align: right;\n",
              "    }\n",
              "</style>\n",
              "<table border=\"1\" class=\"dataframe\">\n",
              "  <thead>\n",
              "    <tr style=\"text-align: right;\">\n",
              "      <th></th>\n",
              "      <th>Model</th>\n",
              "      <th>Threshold</th>\n",
              "      <th>F_score</th>\n",
              "      <th>Precision</th>\n",
              "      <th>Recall</th>\n",
              "      <th>Accuracy</th>\n",
              "      <th>ROC_AUC</th>\n",
              "      <th>Log_loss_score</th>\n",
              "      <th>False Positive Rate</th>\n",
              "      <th>True Negative Rate</th>\n",
              "    </tr>\n",
              "  </thead>\n",
              "  <tbody>\n",
              "    <tr>\n",
              "      <th>0</th>\n",
              "      <td>Logistic Regression</td>\n",
              "      <td>0.419743</td>\n",
              "      <td>0.740753</td>\n",
              "      <td>0.702904</td>\n",
              "      <td>0.782910</td>\n",
              "      <td>0.733714</td>\n",
              "      <td>0.794522</td>\n",
              "      <td>0.557196</td>\n",
              "      <td>0.335635</td>\n",
              "      <td>0.664365</td>\n",
              "    </tr>\n",
              "    <tr>\n",
              "      <th>1</th>\n",
              "      <td>Decision Tree</td>\n",
              "      <td>0.419935</td>\n",
              "      <td>0.734100</td>\n",
              "      <td>0.649411</td>\n",
              "      <td>0.844190</td>\n",
              "      <td>0.729829</td>\n",
              "      <td>0.779436</td>\n",
              "      <td>0.556495</td>\n",
              "      <td>0.222491</td>\n",
              "      <td>0.777509</td>\n",
              "    </tr>\n",
              "    <tr>\n",
              "      <th>2</th>\n",
              "      <td>KNN</td>\n",
              "      <td>0.466667</td>\n",
              "      <td>0.729805</td>\n",
              "      <td>0.703485</td>\n",
              "      <td>0.758171</td>\n",
              "      <td>0.724171</td>\n",
              "      <td>0.779812</td>\n",
              "      <td>0.730850</td>\n",
              "      <td>0.249885</td>\n",
              "      <td>0.750115</td>\n",
              "    </tr>\n",
              "    <tr>\n",
              "      <th>3</th>\n",
              "      <td>Random Forest</td>\n",
              "      <td>0.394701</td>\n",
              "      <td>0.743077</td>\n",
              "      <td>0.701279</td>\n",
              "      <td>0.790172</td>\n",
              "      <td>0.732457</td>\n",
              "      <td>0.797407</td>\n",
              "      <td>0.549562</td>\n",
              "      <td>0.341275</td>\n",
              "      <td>0.658725</td>\n",
              "    </tr>\n",
              "    <tr>\n",
              "      <th>4</th>\n",
              "      <td>AdaBoost</td>\n",
              "      <td>0.495159</td>\n",
              "      <td>0.742446</td>\n",
              "      <td>0.682294</td>\n",
              "      <td>0.814231</td>\n",
              "      <td>0.732857</td>\n",
              "      <td>0.796258</td>\n",
              "      <td>0.682742</td>\n",
              "      <td>0.384553</td>\n",
              "      <td>0.615447</td>\n",
              "    </tr>\n",
              "    <tr>\n",
              "      <th>5</th>\n",
              "      <td>Gradient Boosting</td>\n",
              "      <td>0.403103</td>\n",
              "      <td>0.742700</td>\n",
              "      <td>0.708183</td>\n",
              "      <td>0.780754</td>\n",
              "      <td>0.735943</td>\n",
              "      <td>0.799719</td>\n",
              "      <td>0.545563</td>\n",
              "      <td>0.324816</td>\n",
              "      <td>0.675184</td>\n",
              "    </tr>\n",
              "    <tr>\n",
              "      <th>6</th>\n",
              "      <td>XGB</td>\n",
              "      <td>0.385136</td>\n",
              "      <td>0.746546</td>\n",
              "      <td>0.697340</td>\n",
              "      <td>0.803223</td>\n",
              "      <td>0.737886</td>\n",
              "      <td>0.803383</td>\n",
              "      <td>0.538404</td>\n",
              "      <td>0.353591</td>\n",
              "      <td>0.646409</td>\n",
              "    </tr>\n",
              "    <tr>\n",
              "      <th>7</th>\n",
              "      <td>Light GBM</td>\n",
              "      <td>0.396551</td>\n",
              "      <td>0.745794</td>\n",
              "      <td>0.706497</td>\n",
              "      <td>0.789719</td>\n",
              "      <td>0.737771</td>\n",
              "      <td>0.802700</td>\n",
              "      <td>0.539354</td>\n",
              "      <td>0.332643</td>\n",
              "      <td>0.667357</td>\n",
              "    </tr>\n",
              "    <tr>\n",
              "      <th>8</th>\n",
              "      <td>CatBoost</td>\n",
              "      <td>0.455449</td>\n",
              "      <td>0.736914</td>\n",
              "      <td>0.683929</td>\n",
              "      <td>0.798797</td>\n",
              "      <td>0.726971</td>\n",
              "      <td>0.782314</td>\n",
              "      <td>0.621195</td>\n",
              "      <td>0.227670</td>\n",
              "      <td>0.772330</td>\n",
              "    </tr>\n",
              "  </tbody>\n",
              "</table>\n",
              "</div>\n",
              "      <button class=\"colab-df-convert\" onclick=\"convertToInteractive('df-1c2e3414-511d-42af-a5e3-a8533c595f4c')\"\n",
              "              title=\"Convert this dataframe to an interactive table.\"\n",
              "              style=\"display:none;\">\n",
              "        \n",
              "  <svg xmlns=\"http://www.w3.org/2000/svg\" height=\"24px\"viewBox=\"0 0 24 24\"\n",
              "       width=\"24px\">\n",
              "    <path d=\"M0 0h24v24H0V0z\" fill=\"none\"/>\n",
              "    <path d=\"M18.56 5.44l.94 2.06.94-2.06 2.06-.94-2.06-.94-.94-2.06-.94 2.06-2.06.94zm-11 1L8.5 8.5l.94-2.06 2.06-.94-2.06-.94L8.5 2.5l-.94 2.06-2.06.94zm10 10l.94 2.06.94-2.06 2.06-.94-2.06-.94-.94-2.06-.94 2.06-2.06.94z\"/><path d=\"M17.41 7.96l-1.37-1.37c-.4-.4-.92-.59-1.43-.59-.52 0-1.04.2-1.43.59L10.3 9.45l-7.72 7.72c-.78.78-.78 2.05 0 2.83L4 21.41c.39.39.9.59 1.41.59.51 0 1.02-.2 1.41-.59l7.78-7.78 2.81-2.81c.8-.78.8-2.07 0-2.86zM5.41 20L4 18.59l7.72-7.72 1.47 1.35L5.41 20z\"/>\n",
              "  </svg>\n",
              "      </button>\n",
              "      \n",
              "  <style>\n",
              "    .colab-df-container {\n",
              "      display:flex;\n",
              "      flex-wrap:wrap;\n",
              "      gap: 12px;\n",
              "    }\n",
              "\n",
              "    .colab-df-convert {\n",
              "      background-color: #E8F0FE;\n",
              "      border: none;\n",
              "      border-radius: 50%;\n",
              "      cursor: pointer;\n",
              "      display: none;\n",
              "      fill: #1967D2;\n",
              "      height: 32px;\n",
              "      padding: 0 0 0 0;\n",
              "      width: 32px;\n",
              "    }\n",
              "\n",
              "    .colab-df-convert:hover {\n",
              "      background-color: #E2EBFA;\n",
              "      box-shadow: 0px 1px 2px rgba(60, 64, 67, 0.3), 0px 1px 3px 1px rgba(60, 64, 67, 0.15);\n",
              "      fill: #174EA6;\n",
              "    }\n",
              "\n",
              "    [theme=dark] .colab-df-convert {\n",
              "      background-color: #3B4455;\n",
              "      fill: #D2E3FC;\n",
              "    }\n",
              "\n",
              "    [theme=dark] .colab-df-convert:hover {\n",
              "      background-color: #434B5C;\n",
              "      box-shadow: 0px 1px 3px 1px rgba(0, 0, 0, 0.15);\n",
              "      filter: drop-shadow(0px 1px 2px rgba(0, 0, 0, 0.3));\n",
              "      fill: #FFFFFF;\n",
              "    }\n",
              "  </style>\n",
              "\n",
              "      <script>\n",
              "        const buttonEl =\n",
              "          document.querySelector('#df-1c2e3414-511d-42af-a5e3-a8533c595f4c button.colab-df-convert');\n",
              "        buttonEl.style.display =\n",
              "          google.colab.kernel.accessAllowed ? 'block' : 'none';\n",
              "\n",
              "        async function convertToInteractive(key) {\n",
              "          const element = document.querySelector('#df-1c2e3414-511d-42af-a5e3-a8533c595f4c');\n",
              "          const dataTable =\n",
              "            await google.colab.kernel.invokeFunction('convertToInteractive',\n",
              "                                                     [key], {});\n",
              "          if (!dataTable) return;\n",
              "\n",
              "          const docLinkHtml = 'Like what you see? Visit the ' +\n",
              "            '<a target=\"_blank\" href=https://colab.research.google.com/notebooks/data_table.ipynb>data table notebook</a>'\n",
              "            + ' to learn more about interactive tables.';\n",
              "          element.innerHTML = '';\n",
              "          dataTable['output_type'] = 'display_data';\n",
              "          await google.colab.output.renderOutput(dataTable, element);\n",
              "          const docLink = document.createElement('div');\n",
              "          docLink.innerHTML = docLinkHtml;\n",
              "          element.appendChild(docLink);\n",
              "        }\n",
              "      </script>\n",
              "    </div>\n",
              "  </div>\n",
              "  "
            ]
          },
          "metadata": {},
          "execution_count": 49
        }
      ]
    },
    {
      "cell_type": "code",
      "source": [
        "def business_thr_calibration(y_test, y_score, thresholds, test_price=100, early_treatment=100, late_treatment=1000):\n",
        "  business_thr = 0\n",
        "  r1_r2_ = 0\n",
        "  r1_r3_ = 0\n",
        "  r2_r3_ = 0\n",
        "  LTC_ = - 10000000\n",
        "  OTC_ = - 10000000\n",
        "  MLC_ = - 10000000\n",
        "\n",
        "  r2 = []\n",
        "  n = 50\n",
        "  for opt_business_thr in np.linspace(0, 1, n).tolist():\n",
        "    cm = confusion_matrix(y_test, y_score > (opt_business_thr))\n",
        "\n",
        "    LTC = ((cm[1][0] + cm[1][1])) * late_treatment\n",
        "    OTC = np.sum(cm) * test_price + ((cm[1][0] + cm[1][1])) * early_treatment\n",
        "    MLC = ((cm[0][1] + cm[1][1])) * test_price + (cm[1][1]) * early_treatment + np.sum(cm[1][0]) * late_treatment\n",
        "\n",
        "    r2_r3 = OTC - MLC\n",
        "    r1_r2 = LTC - OTC\n",
        "    r1_r3 = LTC - MLC\n",
        "\n",
        "    if r2_r3_ < r2_r3:\n",
        "      business_thr = opt_business_thr\n",
        "      r1_r2_ = r1_r2\n",
        "      r1_r3_ = r1_r3\n",
        "      r2_r3_ = r2_r3\n",
        "      LTC_ = LTC\n",
        "      OTC_ = OTC\n",
        "      MLC_ = MLC\n",
        "\n",
        "    r2.append(r2_r3)\n",
        "\n",
        "  print(f'Расходы на лечение при ожидании симптомов: {LTC}')\n",
        "  print(f'Расходы на тесты всем и раннее лечение больных: {OTC}')\n",
        "  print(f'Расходы при использовании алгоритма ML: {MLC}')\n",
        "  print(f'Разница не делать тесты - расходы с ML: {r1_r3_}')\n",
        "  print(f'Разница не делать тесты - сделать тесты всем: {r1_r2_}')\n",
        "  print(f'Разница делать тесты всем - сделать тесты по результатам ML: {r2_r3_}')\n",
        "\n",
        "  plt.plot(np.linspace(0, 1, n), r2)\n",
        "  plt.grid\n",
        "  plt.show()\n",
        "\n",
        "  return business_thr\n"
      ],
      "metadata": {
        "id": "fgujqsCPQp5I"
      },
      "execution_count": 57,
      "outputs": []
    },
    {
      "cell_type": "code",
      "source": [
        "business_thr_lr = business_thr_calibration(y_test, y_score_lr,\n",
        "                                           thresholds_lr[ix_lr],\n",
        "                                           test_price=1400, \n",
        "                                           early_treatment=15000, \n",
        "                                           late_treatment=20000)\n",
        "\n",
        "print(f'{business_thr_lr}')\n",
        "print(f'{thresholds_lr[ix_lr]}')"
      ],
      "metadata": {
        "colab": {
          "base_uri": "https://localhost:8080/",
          "height": 432
        },
        "id": "KTr-DWCYhkyY",
        "outputId": "1edb5bfc-c0cb-4f3d-e142-f59d1bec42e3"
      },
      "execution_count": 58,
      "outputs": [
        {
          "output_type": "stream",
          "name": "stdout",
          "text": [
            "Расходы на лечение при ожидании симптомов: 176240000\n",
            "Расходы на тесты всем и раннее лечение больных: 156680000\n",
            "Расходы при использовании алгоритма ML: 176240000\n",
            "Разница не делать тесты - расходы с ML: 21483000\n",
            "Разница не делать тесты - сделать тесты всем: 19560000\n",
            "Разница делать тесты всем - сделать тесты по результатам ML: 1923000\n"
          ]
        },
        {
          "output_type": "display_data",
          "data": {
            "text/plain": [
              "<Figure size 432x288 with 1 Axes>"
            ],
            "image/png": "[encoded data removed]"
          },
          "metadata": {}
        },
        {
          "output_type": "stream",
          "name": "stdout",
          "text": [
            "0.3469387755102041\n",
            "0.4197425557370595\n"
          ]
        }
      ]
    },
    {
      "cell_type": "code",
      "source": [
        "business_thr_dt = business_thr_calibration(y_test, y_score_dt,\n",
        "                                           thresholds_dt[ix_dt],\n",
        "                                           test_price=1400, \n",
        "                                           early_treatment=15000, \n",
        "                                           late_treatment=20000)\n",
        "\n",
        "print(f'{business_thr_dt}')\n",
        "print(f'{thresholds_dt[ix_dt]}')"
      ],
      "metadata": {
        "id": "IraoXQT5OGZA",
        "colab": {
          "base_uri": "https://localhost:8080/",
          "height": 432
        },
        "outputId": "79e3594a-2f38-4e57-8335-1c25583e715e"
      },
      "execution_count": 59,
      "outputs": [
        {
          "output_type": "stream",
          "name": "stdout",
          "text": [
            "Расходы на лечение при ожидании симптомов: 176240000\n",
            "Расходы на тесты всем и раннее лечение больных: 156680000\n",
            "Расходы при использовании алгоритма ML: 176240000\n",
            "Разница не делать тесты - расходы с ML: 21158000\n",
            "Разница не делать тесты - сделать тесты всем: 19560000\n",
            "Разница делать тесты всем - сделать тесты по результатам ML: 1598000\n"
          ]
        },
        {
          "output_type": "display_data",
          "data": {
            "text/plain": [
              "<Figure size 432x288 with 1 Axes>"
            ],
            "image/png": "[encoded data removed]"
          },
          "metadata": {}
        },
        {
          "output_type": "stream",
          "name": "stdout",
          "text": [
            "0.22448979591836732\n",
            "0.41993526275704496\n"
          ]
        }
      ]
    },
    {
      "cell_type": "code",
      "source": [
        "business_thr_knn = business_thr_calibration(y_test, y_score_knn,\n",
        "                                            thresholds_knn[ix_knn],\n",
        "                                            test_price=1400, \n",
        "                                            early_treatment=15000, \n",
        "                                            late_treatment=20000)\n",
        "\n",
        "print(f'{business_thr_knn}')\n",
        "print(f'{thresholds_knn[ix_knn]}')"
      ],
      "metadata": {
        "colab": {
          "base_uri": "https://localhost:8080/",
          "height": 432
        },
        "id": "sfrBk8eQqOR9",
        "outputId": "d3db2e45-3fea-474f-9c7e-d9c3a4284c4a"
      },
      "execution_count": 60,
      "outputs": [
        {
          "output_type": "stream",
          "name": "stdout",
          "text": [
            "Расходы на лечение при ожидании симптомов: 176240000\n",
            "Расходы на тесты всем и раннее лечение больных: 156680000\n",
            "Расходы при использовании алгоритма ML: 176240000\n",
            "Разница не делать тесты - расходы с ML: 21065800\n",
            "Разница не делать тесты - сделать тесты всем: 19560000\n",
            "Разница делать тесты всем - сделать тесты по результатам ML: 1505800\n"
          ]
        },
        {
          "output_type": "display_data",
          "data": {
            "text/plain": [
              "<Figure size 432x288 with 1 Axes>"
            ],
            "image/png": "[encoded data removed]"
          },
          "metadata": {}
        },
        {
          "output_type": "stream",
          "name": "stdout",
          "text": [
            "0.2040816326530612\n",
            "0.4666666666666667\n"
          ]
        }
      ]
    },
    {
      "cell_type": "code",
      "source": [
        "business_thr_rf = business_thr_calibration(y_test, y_score_rf,\n",
        "                                            thresholds_rf[ix_rf],\n",
        "                                            test_price=1400, \n",
        "                                            early_treatment=15000, \n",
        "                                            late_treatment=20000)\n",
        "\n",
        "print(f'{business_thr_rf}')\n",
        "print(f'{thresholds_rf[ix_rf]}')"
      ],
      "metadata": {
        "colab": {
          "base_uri": "https://localhost:8080/",
          "height": 432
        },
        "id": "AFDl2JYuq3T6",
        "outputId": "b21c824b-d4e7-4955-fd3e-bd7363270024"
      },
      "execution_count": 61,
      "outputs": [
        {
          "output_type": "stream",
          "name": "stdout",
          "text": [
            "Расходы на лечение при ожидании симптомов: 176240000\n",
            "Расходы на тесты всем и раннее лечение больных: 156680000\n",
            "Расходы при использовании алгоритма ML: 176240000\n",
            "Разница не делать тесты - расходы с ML: 21579600\n",
            "Разница не делать тесты - сделать тесты всем: 19560000\n",
            "Разница делать тесты всем - сделать тесты по результатам ML: 2019600\n"
          ]
        },
        {
          "output_type": "display_data",
          "data": {
            "text/plain": [
              "<Figure size 432x288 with 1 Axes>"
            ],
            "image/png": "[encoded data removed]"
          },
          "metadata": {}
        },
        {
          "output_type": "stream",
          "name": "stdout",
          "text": [
            "0.2857142857142857\n",
            "0.3947013263515301\n"
          ]
        }
      ]
    },
    {
      "cell_type": "code",
      "source": [
        "business_thr_ab = business_thr_calibration(y_test, y_score_ab,\n",
        "                                            thresholds_ab[ix_ab],\n",
        "                                            test_price=1400, \n",
        "                                            early_treatment=15000, \n",
        "                                            late_treatment=20000)\n",
        "\n",
        "print(f'{business_thr_ab}')\n",
        "print(f'{thresholds_ab[ix_ab]}')"
      ],
      "metadata": {
        "colab": {
          "base_uri": "https://localhost:8080/",
          "height": 432
        },
        "id": "V_VsZv_z2YhV",
        "outputId": "e69b0cf2-7d1d-43e8-ed4d-540a29b83c45"
      },
      "execution_count": 62,
      "outputs": [
        {
          "output_type": "stream",
          "name": "stdout",
          "text": [
            "Расходы на лечение при ожидании симптомов: 176240000\n",
            "Расходы на тесты всем и раннее лечение больных: 156680000\n",
            "Расходы при использовании алгоритма ML: 176240000\n",
            "Разница не делать тесты - расходы с ML: 21335800\n",
            "Разница не делать тесты - сделать тесты всем: 19560000\n",
            "Разница делать тесты всем - сделать тесты по результатам ML: 1775800\n"
          ]
        },
        {
          "output_type": "display_data",
          "data": {
            "text/plain": [
              "<Figure size 432x288 with 1 Axes>"
            ],
            "image/png": "[encoded data removed]"
          },
          "metadata": {}
        },
        {
          "output_type": "stream",
          "name": "stdout",
          "text": [
            "0.4897959183673469\n",
            "0.4951592668609721\n"
          ]
        }
      ]
    },
    {
      "cell_type": "code",
      "source": [
        "business_thr_gb = business_thr_calibration(y_test, y_score_gb,\n",
        "                                            thresholds_gb[ix_gb],\n",
        "                                            test_price=1400, \n",
        "                                            early_treatment=15000, \n",
        "                                            late_treatment=20000)\n",
        "\n",
        "print(f'{business_thr_gb}')\n",
        "print(f'{thresholds_gb[ix_gb]}')"
      ],
      "metadata": {
        "colab": {
          "base_uri": "https://localhost:8080/",
          "height": 432
        },
        "id": "8-vcrWe82vNQ",
        "outputId": "84492c1a-c1df-4905-b00b-14d34c641cc7"
      },
      "execution_count": 64,
      "outputs": [
        {
          "output_type": "stream",
          "name": "stdout",
          "text": [
            "Расходы на лечение при ожидании симптомов: 176240000\n",
            "Расходы на тесты всем и раннее лечение больных: 156680000\n",
            "Расходы при использовании алгоритма ML: 176240000\n",
            "Разница не делать тесты - расходы с ML: 21627800\n",
            "Разница не делать тесты - сделать тесты всем: 19560000\n",
            "Разница делать тесты всем - сделать тесты по результатам ML: 2067800\n"
          ]
        },
        {
          "output_type": "display_data",
          "data": {
            "text/plain": [
              "<Figure size 432x288 with 1 Axes>"
            ],
            "image/png": "[encoded data removed]"
          },
          "metadata": {}
        },
        {
          "output_type": "stream",
          "name": "stdout",
          "text": [
            "0.2857142857142857\n",
            "0.40310312753644084\n"
          ]
        }
      ]
    },
    {
      "cell_type": "code",
      "source": [
        "business_thr_xgb = business_thr_calibration(y_test, y_score_xgb,\n",
        "                                            thresholds_xgb[ix_xgb],\n",
        "                                            test_price=1400, \n",
        "                                            early_treatment=15000, \n",
        "                                            late_treatment=20000)\n",
        "\n",
        "print(f'{business_thr_xgb}')\n",
        "print(f'{thresholds_xgb[ix_xgb]}')"
      ],
      "metadata": {
        "colab": {
          "base_uri": "https://localhost:8080/",
          "height": 432
        },
        "id": "LgQMjIZk28ws",
        "outputId": "6316dfaa-9b69-4ba7-eebb-002356993287"
      },
      "execution_count": 65,
      "outputs": [
        {
          "output_type": "stream",
          "name": "stdout",
          "text": [
            "Расходы на лечение при ожидании симптомов: 176240000\n",
            "Расходы на тесты всем и раннее лечение больных: 156680000\n",
            "Расходы при использовании алгоритма ML: 176240000\n",
            "Разница не делать тесты - расходы с ML: 21800600\n",
            "Разница не делать тесты - сделать тесты всем: 19560000\n",
            "Разница делать тесты всем - сделать тесты по результатам ML: 2240600\n"
          ]
        },
        {
          "output_type": "display_data",
          "data": {
            "text/plain": [
              "<Figure size 432x288 with 1 Axes>"
            ],
            "image/png": "[encoded data removed]"
          },
          "metadata": {}
        },
        {
          "output_type": "stream",
          "name": "stdout",
          "text": [
            "0.2857142857142857\n",
            "0.385136216878891\n"
          ]
        }
      ]
    },
    {
      "cell_type": "code",
      "source": [
        "business_thr_lgbm = business_thr_calibration(y_test, y_score_lgbm,\n",
        "                                            thresholds_lgbm[ix_lgbm],\n",
        "                                            test_price=1400, \n",
        "                                            early_treatment=15000, \n",
        "                                            late_treatment=20000)\n",
        "\n",
        "print(f'{business_thr_lgbm}')\n",
        "print(f'{thresholds_lgbm[ix_lgbm]}')"
      ],
      "metadata": {
        "colab": {
          "base_uri": "https://localhost:8080/",
          "height": 432
        },
        "id": "81ra8Ev03Jp6",
        "outputId": "a192981b-9649-4628-da9f-885c81d2a394"
      },
      "execution_count": 66,
      "outputs": [
        {
          "output_type": "stream",
          "name": "stdout",
          "text": [
            "Расходы на лечение при ожидании симптомов: 176240000\n",
            "Расходы на тесты всем и раннее лечение больных: 156680000\n",
            "Расходы при использовании алгоритма ML: 176240000\n",
            "Разница не делать тесты - расходы с ML: 21753600\n",
            "Разница не делать тесты - сделать тесты всем: 19560000\n",
            "Разница делать тесты всем - сделать тесты по результатам ML: 2193600\n"
          ]
        },
        {
          "output_type": "display_data",
          "data": {
            "text/plain": [
              "<Figure size 432x288 with 1 Axes>"
            ],
            "image/png": "[encoded data removed]"
          },
          "metadata": {}
        },
        {
          "output_type": "stream",
          "name": "stdout",
          "text": [
            "0.26530612244897955\n",
            "0.39655063593457146\n"
          ]
        }
      ]
    },
    {
      "cell_type": "code",
      "source": [
        "business_thr_cb = business_thr_calibration(y_test, y_score_cb,\n",
        "                                            thresholds_cb[ix_cb],\n",
        "                                            test_price=1400, \n",
        "                                            early_treatment=15000, \n",
        "                                            late_treatment=20000)\n",
        "\n",
        "print(f'{business_thr_cb}')\n",
        "print(f'{thresholds_cb[ix_cb]}')"
      ],
      "metadata": {
        "colab": {
          "base_uri": "https://localhost:8080/",
          "height": 432
        },
        "id": "HL6n1U903T_y",
        "outputId": "cab1642b-af52-4fcf-8be6-39445fa0abca"
      },
      "execution_count": 67,
      "outputs": [
        {
          "output_type": "stream",
          "name": "stdout",
          "text": [
            "Расходы на лечение при ожидании симптомов: 176240000\n",
            "Расходы на тесты всем и раннее лечение больных: 156680000\n",
            "Расходы при использовании алгоритма ML: 176240000\n",
            "Разница не делать тесты - расходы с ML: 21198000\n",
            "Разница не делать тесты - сделать тесты всем: 19560000\n",
            "Разница делать тесты всем - сделать тесты по результатам ML: 1638000\n"
          ]
        },
        {
          "output_type": "display_data",
          "data": {
            "text/plain": [
              "<Figure size 432x288 with 1 Axes>"
            ],
            "image/png": "[encoded data removed]"
          },
          "metadata": {}
        },
        {
          "output_type": "stream",
          "name": "stdout",
          "text": [
            "0.42857142857142855\n",
            "0.455449039819047\n"
          ]
        }
      ]
    },
    {
      "cell_type": "markdown",
      "source": [
        "К сожалению, ни одна из моделей не показала очень хороших результатов. При тюнинге гиперпараметров удавалось добиться только значительного ухудшения метрик и лишь незначительного улучшения. Видимо, дело в данных, которых недостаточно для построения более точных моделей"
      ],
      "metadata": {
        "id": "r_cRHVDG3ePl"
      }
    },
    {
      "cell_type": "code",
      "source": [],
      "metadata": {
        "id": "Sk0ORcOf4AMu"
      },
      "execution_count": null,
      "outputs": []
    }
  ]
}